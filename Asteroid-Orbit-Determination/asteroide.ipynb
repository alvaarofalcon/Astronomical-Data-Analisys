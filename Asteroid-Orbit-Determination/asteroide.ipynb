{
 "cells": [
  {
   "cell_type": "code",
   "execution_count": 1,
   "id": "678da2b0-fd9c-4dac-b0ec-ef5b7af89f67",
   "metadata": {},
   "outputs": [],
   "source": [
    "import sympy\n",
    "from sympy import *\n",
    "import pandas as pd\n",
    "import subprocessf as sp\n",
    "import os\n",
    "import matplotlib.pyplot as plt\n",
    "import numpy as np\n",
    "from astropy.io import ascii\n",
    "from scipy.stats import linregress"
   ]
  },
  {
   "cell_type": "markdown",
   "id": "d022e9c5-6838-4579-876a-c1a1fd65d81f",
   "metadata": {},
   "source": [
    "#### TAKING THE IMAGES, CREATING TABLES, APLYNG FILTERS AND OBTAIN COORDINATES WITH ERRORS FOR 2 STARS AND ASTEROID"
   ]
  },
  {
   "cell_type": "code",
   "execution_count": 2,
   "id": "f789e74d-4548-4890-a466-13399218724f",
   "metadata": {},
   "outputs": [],
   "source": [
    "nombres = []\n",
    "lista = []\n",
    "i=0\n",
    "for element in sorted(os.listdir()):\n",
    "    if element.endswith('.FIT'):\n",
    "        sp.run(['sex {} -c myconf.txt'.format(element)], shell=True, stderr = sp.DEVNULL)\n",
    "        data = ascii.read(\"output.src\")\n",
    "        nombres.append(element)\n",
    "        df = data.to_pandas()\n",
    "        df = df[[\"X_IMAGE\",\"Y_IMAGE\", 'ERRX2_IMAGE', 'ERRY2_IMAGE']]\n",
    "        df['Name'] = element\n",
    "        df_s1 = df[(df['X_IMAGE'] >= 2400) & (df['X_IMAGE']<=2978) & (df['Y_IMAGE'] >= 600) & (df['Y_IMAGE']<=1100)] # hip105999\n",
    "        df_s2 = df[(df['X_IMAGE'] >= 2000) & (df['X_IMAGE']<=2500) & (df['Y_IMAGE'] >= 1600) & (df['Y_IMAGE']<=2150)] # hd204296\n",
    "        df_a = df[(df['X_IMAGE'] >= 300) & (df['X_IMAGE']<= 800) & (df['Y_IMAGE'] >= 700) & (df['Y_IMAGE']<= 950)]\n",
    "        df2 = pd.concat([df_s1, df_s2, df_a], axis=0)        \n",
    "        if len(df2) >= 3:\n",
    "#            df2.to_csv('df{}.csv'.format(i), index=True)\n",
    "            lista.append(df2)\n",
    "            i +=1\n",
    "for element in lista:\n",
    "    element.iloc[0,-1] = element.iloc[0,-1].replace('asteroid.', '')\n",
    "    element.iloc[0,-1] = element.iloc[0,-1].replace('.FIT', '')\n",
    "    element.iloc[0,-1] = int(element.iloc[0,-1])\n",
    "del lista[12]\n",
    "#        output\n",
    "#        if element.endswith('.src'):\n",
    "#            nuevo_nombre = '{}.src'.format(element)\n",
    "#            ruta_actual = os.path.join(ubicacion, nombre_actual)\n",
    "#            ruta_nueva = os.path.join(ubicacion2, nuevo_nombre)\n",
    "#            os.rename(ruta_actual,ruta_nueva)"
   ]
  },
  {
   "cell_type": "markdown",
   "id": "43b52481-2283-43cb-9b12-b217157eaa9d",
   "metadata": {},
   "source": [
    "#### TRASFORMATION'S PARAMETERS"
   ]
  },
  {
   "cell_type": "code",
   "execution_count": 3,
   "id": "5c5222a2-0436-4eb7-ad84-5f5408f09aa4",
   "metadata": {},
   "outputs": [],
   "source": [
    "#### CONSTANTS ####\n",
    "delta_o = np.deg2rad(-(11 + 55/60 + 42.578247360/3600))\n",
    "#### COORDENADAS ESTELARES DE CADA ESTRELLA ####\n",
    "alpha_1p = np.deg2rad(15 * (21 + 28/60 + 05.0701102848/3600) * np.cos(delta_o))\n",
    "delta_1 = np.deg2rad(-(11 + 55/60 + 42.578247360/3600))\n",
    "delta_2 = np.deg2rad(-(11 + 49/60 + 33.054277188/3600))\n",
    "alpha_2p = np.deg2rad(15 * (21 + 27/60 + 59.2109419296/3600) * np.cos(delta_o))\n",
    "###############################################################################\n",
    "lista_tetha = []\n",
    "lista_lamvda = []\n",
    "lista_alpha_p_o = []\n",
    "lista_delta_p_o = []\n",
    "\n",
    "for element in lista:\n",
    "    x1 = element.iloc[0,0]\n",
    "    x2 = element.iloc[1,0]\n",
    "    y1 = element.iloc[0,1]\n",
    "    y2 = element.iloc[1,1] \n",
    "    \n",
    "    tetha = np.arctan((delta_1-delta_2)/(alpha_1p-alpha_2p)) - np.arctan((y1-y2)/(x1-x2)) #delta_o declinacion que nosotros quieramos\n",
    "    lamvda = np.sqrt((alpha_1p-alpha_2p)**2+(delta_1-delta_2)**2)/np.sqrt((y1-y2)**2+(x1-x2)**2) \n",
    "    alpha_p_o = -lamvda*np.cos(tetha)*x1 + lamvda*np.sin(tetha)*y1 + alpha_1p\n",
    "    delta_p_o = -lamvda*np.sin(tetha)*x1 - lamvda*np.cos(tetha)*y1 + delta_1\n",
    "    \n",
    "    element['tetha'] = 0.0\n",
    "    element.iloc[0,-1] = tetha\n",
    "\n",
    "    element['lamvda'] = 0.0\n",
    "    element.iloc[0,-1] = lamvda\n",
    "    \n",
    "    element['alpha_p_o'] = 0.0\n",
    "    element.iloc[0,-1] = alpha_p_o\n",
    "    \n",
    "    element['delta_p_o'] = 0.0\n",
    "    element.iloc[0,-1] = delta_p_o"
   ]
  },
  {
   "cell_type": "code",
   "execution_count": 16,
   "id": "0912d9fb-d897-45f5-a7f9-889f118748af",
   "metadata": {},
   "outputs": [
    {
     "data": {
      "text/plain": [
       "()"
      ]
     },
     "execution_count": 16,
     "metadata": {},
     "output_type": "execute_result"
    }
   ],
   "source": [
    "lamvda"
   ]
  },
  {
   "cell_type": "markdown",
   "id": "069b929b-8889-471d-97b5-78d0e7d156c7",
   "metadata": {},
   "source": [
    "#### TRANSFORMATION OF ASTEROID'S COORDINATES FROM CARTESIAN (X,Y) TO ANGULAR (ALPHA', DELTA')"
   ]
  },
  {
   "cell_type": "code",
   "execution_count": 5,
   "id": "7647470f-67dc-4690-ae0c-0ac63ebd5392",
   "metadata": {},
   "outputs": [],
   "source": [
    "asteroide = pd.DataFrame(columns = ['alpha_o','delta'])\n",
    "alpha = []\n",
    "delta = []\n",
    "for element in lista:\n",
    "    X_a = element.iloc[2,0]\n",
    "    Y_a = element.iloc[2,1]\n",
    "    alpha_p_a = element.iloc[0,-3] * (X_a * np.cos(element.iloc[0,-4]) - Y_a * np.sin(element.iloc[0,-4])) + element.iloc[0,-2]\n",
    "    delta_a = element.iloc[0,-3] * (X_a * np.sin(element.iloc[0,-4]) + Y_a * np.cos(element.iloc[0,-4])) + element.iloc[0,-1]\n",
    "    alpha.append(alpha_p_a)\n",
    "    delta.append(delta_a)\n",
    "asteroide['alpha_o'] = alpha/np.cos(delta_o)######### no estaba dividido por np.cos(delta_o)\n",
    "asteroide['delta'] = delta\n",
    "#asteroide.plot('alpha_o', 'delta')\n",
    "#asteroide.plot('delta', 'alpha_o')"
   ]
  },
  {
   "cell_type": "markdown",
   "id": "9bf59932-d291-4dc2-9d6e-ee48c768f9a6",
   "metadata": {},
   "source": [
    "#### TIME OF EACH IMAGE"
   ]
  },
  {
   "cell_type": "code",
   "execution_count": 6,
   "id": "90a08cca-45db-4742-b0d3-0adcaea20df8",
   "metadata": {},
   "outputs": [
    {
     "data": {
      "text/html": [
       "<div>\n",
       "<style scoped>\n",
       "    .dataframe tbody tr th:only-of-type {\n",
       "        vertical-align: middle;\n",
       "    }\n",
       "\n",
       "    .dataframe tbody tr th {\n",
       "        vertical-align: top;\n",
       "    }\n",
       "\n",
       "    .dataframe thead th {\n",
       "        text-align: right;\n",
       "    }\n",
       "</style>\n",
       "<table border=\"1\" class=\"dataframe\">\n",
       "  <thead>\n",
       "    <tr style=\"text-align: right;\">\n",
       "      <th></th>\n",
       "      <th>alpha_o</th>\n",
       "      <th>delta</th>\n",
       "      <th>Tiempo</th>\n",
       "    </tr>\n",
       "  </thead>\n",
       "  <tbody>\n",
       "    <tr>\n",
       "      <th>0</th>\n",
       "      <td>5.616816</td>\n",
       "      <td>-0.207525</td>\n",
       "      <td>0.000000</td>\n",
       "    </tr>\n",
       "    <tr>\n",
       "      <th>1</th>\n",
       "      <td>5.616820</td>\n",
       "      <td>-0.207525</td>\n",
       "      <td>110.214415</td>\n",
       "    </tr>\n",
       "    <tr>\n",
       "      <th>2</th>\n",
       "      <td>5.616822</td>\n",
       "      <td>-0.207525</td>\n",
       "      <td>165.321623</td>\n",
       "    </tr>\n",
       "    <tr>\n",
       "      <th>3</th>\n",
       "      <td>5.616828</td>\n",
       "      <td>-0.207522</td>\n",
       "      <td>220.428830</td>\n",
       "    </tr>\n",
       "    <tr>\n",
       "      <th>4</th>\n",
       "      <td>5.616829</td>\n",
       "      <td>-0.207521</td>\n",
       "      <td>275.536038</td>\n",
       "    </tr>\n",
       "    <tr>\n",
       "      <th>5</th>\n",
       "      <td>5.616832</td>\n",
       "      <td>-0.207521</td>\n",
       "      <td>330.643245</td>\n",
       "    </tr>\n",
       "    <tr>\n",
       "      <th>6</th>\n",
       "      <td>5.616837</td>\n",
       "      <td>-0.207516</td>\n",
       "      <td>385.750453</td>\n",
       "    </tr>\n",
       "    <tr>\n",
       "      <th>7</th>\n",
       "      <td>5.616844</td>\n",
       "      <td>-0.207518</td>\n",
       "      <td>440.857660</td>\n",
       "    </tr>\n",
       "    <tr>\n",
       "      <th>8</th>\n",
       "      <td>5.616840</td>\n",
       "      <td>-0.207519</td>\n",
       "      <td>495.964868</td>\n",
       "    </tr>\n",
       "    <tr>\n",
       "      <th>9</th>\n",
       "      <td>5.616842</td>\n",
       "      <td>-0.207517</td>\n",
       "      <td>551.072075</td>\n",
       "    </tr>\n",
       "    <tr>\n",
       "      <th>10</th>\n",
       "      <td>5.616846</td>\n",
       "      <td>-0.207518</td>\n",
       "      <td>606.179283</td>\n",
       "    </tr>\n",
       "    <tr>\n",
       "      <th>11</th>\n",
       "      <td>5.616848</td>\n",
       "      <td>-0.207516</td>\n",
       "      <td>661.286491</td>\n",
       "    </tr>\n",
       "    <tr>\n",
       "      <th>12</th>\n",
       "      <td>5.616856</td>\n",
       "      <td>-0.207514</td>\n",
       "      <td>771.500906</td>\n",
       "    </tr>\n",
       "    <tr>\n",
       "      <th>13</th>\n",
       "      <td>5.616860</td>\n",
       "      <td>-0.207514</td>\n",
       "      <td>826.608113</td>\n",
       "    </tr>\n",
       "    <tr>\n",
       "      <th>14</th>\n",
       "      <td>5.616867</td>\n",
       "      <td>-0.207515</td>\n",
       "      <td>881.715321</td>\n",
       "    </tr>\n",
       "    <tr>\n",
       "      <th>15</th>\n",
       "      <td>5.616866</td>\n",
       "      <td>-0.207511</td>\n",
       "      <td>936.822528</td>\n",
       "    </tr>\n",
       "    <tr>\n",
       "      <th>16</th>\n",
       "      <td>5.616870</td>\n",
       "      <td>-0.207511</td>\n",
       "      <td>991.929736</td>\n",
       "    </tr>\n",
       "    <tr>\n",
       "      <th>17</th>\n",
       "      <td>5.616869</td>\n",
       "      <td>-0.207509</td>\n",
       "      <td>1047.036943</td>\n",
       "    </tr>\n",
       "    <tr>\n",
       "      <th>18</th>\n",
       "      <td>5.616872</td>\n",
       "      <td>-0.207508</td>\n",
       "      <td>1102.144151</td>\n",
       "    </tr>\n",
       "    <tr>\n",
       "      <th>19</th>\n",
       "      <td>5.616873</td>\n",
       "      <td>-0.207508</td>\n",
       "      <td>1157.251358</td>\n",
       "    </tr>\n",
       "    <tr>\n",
       "      <th>20</th>\n",
       "      <td>5.616879</td>\n",
       "      <td>-0.207509</td>\n",
       "      <td>1212.358566</td>\n",
       "    </tr>\n",
       "    <tr>\n",
       "      <th>21</th>\n",
       "      <td>5.616879</td>\n",
       "      <td>-0.207507</td>\n",
       "      <td>1267.465774</td>\n",
       "    </tr>\n",
       "    <tr>\n",
       "      <th>22</th>\n",
       "      <td>5.616885</td>\n",
       "      <td>-0.207506</td>\n",
       "      <td>1322.572981</td>\n",
       "    </tr>\n",
       "    <tr>\n",
       "      <th>23</th>\n",
       "      <td>5.616886</td>\n",
       "      <td>-0.207505</td>\n",
       "      <td>1377.680189</td>\n",
       "    </tr>\n",
       "    <tr>\n",
       "      <th>24</th>\n",
       "      <td>5.616887</td>\n",
       "      <td>-0.207510</td>\n",
       "      <td>1432.787396</td>\n",
       "    </tr>\n",
       "    <tr>\n",
       "      <th>25</th>\n",
       "      <td>5.616894</td>\n",
       "      <td>-0.207503</td>\n",
       "      <td>1487.894604</td>\n",
       "    </tr>\n",
       "    <tr>\n",
       "      <th>26</th>\n",
       "      <td>5.616898</td>\n",
       "      <td>-0.207500</td>\n",
       "      <td>1543.001811</td>\n",
       "    </tr>\n",
       "    <tr>\n",
       "      <th>27</th>\n",
       "      <td>5.616918</td>\n",
       "      <td>-0.207498</td>\n",
       "      <td>2038.966679</td>\n",
       "    </tr>\n",
       "    <tr>\n",
       "      <th>28</th>\n",
       "      <td>5.616921</td>\n",
       "      <td>-0.207496</td>\n",
       "      <td>2094.073887</td>\n",
       "    </tr>\n",
       "    <tr>\n",
       "      <th>29</th>\n",
       "      <td>5.616924</td>\n",
       "      <td>-0.207494</td>\n",
       "      <td>2149.181094</td>\n",
       "    </tr>\n",
       "    <tr>\n",
       "      <th>30</th>\n",
       "      <td>5.616927</td>\n",
       "      <td>-0.207493</td>\n",
       "      <td>2204.288302</td>\n",
       "    </tr>\n",
       "    <tr>\n",
       "      <th>31</th>\n",
       "      <td>5.616925</td>\n",
       "      <td>-0.207491</td>\n",
       "      <td>2259.395509</td>\n",
       "    </tr>\n",
       "    <tr>\n",
       "      <th>32</th>\n",
       "      <td>5.616933</td>\n",
       "      <td>-0.207488</td>\n",
       "      <td>2314.502717</td>\n",
       "    </tr>\n",
       "    <tr>\n",
       "      <th>33</th>\n",
       "      <td>5.616944</td>\n",
       "      <td>-0.207491</td>\n",
       "      <td>2369.609925</td>\n",
       "    </tr>\n",
       "    <tr>\n",
       "      <th>34</th>\n",
       "      <td>5.616936</td>\n",
       "      <td>-0.207489</td>\n",
       "      <td>2424.717132</td>\n",
       "    </tr>\n",
       "    <tr>\n",
       "      <th>35</th>\n",
       "      <td>5.616941</td>\n",
       "      <td>-0.207488</td>\n",
       "      <td>2479.824340</td>\n",
       "    </tr>\n",
       "    <tr>\n",
       "      <th>36</th>\n",
       "      <td>5.616943</td>\n",
       "      <td>-0.207487</td>\n",
       "      <td>2534.931547</td>\n",
       "    </tr>\n",
       "    <tr>\n",
       "      <th>37</th>\n",
       "      <td>5.616947</td>\n",
       "      <td>-0.207485</td>\n",
       "      <td>2590.038755</td>\n",
       "    </tr>\n",
       "    <tr>\n",
       "      <th>38</th>\n",
       "      <td>5.616941</td>\n",
       "      <td>-0.207481</td>\n",
       "      <td>2645.145962</td>\n",
       "    </tr>\n",
       "    <tr>\n",
       "      <th>39</th>\n",
       "      <td>5.616960</td>\n",
       "      <td>-0.207490</td>\n",
       "      <td>2700.253170</td>\n",
       "    </tr>\n",
       "    <tr>\n",
       "      <th>40</th>\n",
       "      <td>5.616956</td>\n",
       "      <td>-0.207489</td>\n",
       "      <td>2755.360377</td>\n",
       "    </tr>\n",
       "  </tbody>\n",
       "</table>\n",
       "</div>"
      ],
      "text/plain": [
       "     alpha_o     delta       Tiempo\n",
       "0   5.616816 -0.207525     0.000000\n",
       "1   5.616820 -0.207525   110.214415\n",
       "2   5.616822 -0.207525   165.321623\n",
       "3   5.616828 -0.207522   220.428830\n",
       "4   5.616829 -0.207521   275.536038\n",
       "5   5.616832 -0.207521   330.643245\n",
       "6   5.616837 -0.207516   385.750453\n",
       "7   5.616844 -0.207518   440.857660\n",
       "8   5.616840 -0.207519   495.964868\n",
       "9   5.616842 -0.207517   551.072075\n",
       "10  5.616846 -0.207518   606.179283\n",
       "11  5.616848 -0.207516   661.286491\n",
       "12  5.616856 -0.207514   771.500906\n",
       "13  5.616860 -0.207514   826.608113\n",
       "14  5.616867 -0.207515   881.715321\n",
       "15  5.616866 -0.207511   936.822528\n",
       "16  5.616870 -0.207511   991.929736\n",
       "17  5.616869 -0.207509  1047.036943\n",
       "18  5.616872 -0.207508  1102.144151\n",
       "19  5.616873 -0.207508  1157.251358\n",
       "20  5.616879 -0.207509  1212.358566\n",
       "21  5.616879 -0.207507  1267.465774\n",
       "22  5.616885 -0.207506  1322.572981\n",
       "23  5.616886 -0.207505  1377.680189\n",
       "24  5.616887 -0.207510  1432.787396\n",
       "25  5.616894 -0.207503  1487.894604\n",
       "26  5.616898 -0.207500  1543.001811\n",
       "27  5.616918 -0.207498  2038.966679\n",
       "28  5.616921 -0.207496  2094.073887\n",
       "29  5.616924 -0.207494  2149.181094\n",
       "30  5.616927 -0.207493  2204.288302\n",
       "31  5.616925 -0.207491  2259.395509\n",
       "32  5.616933 -0.207488  2314.502717\n",
       "33  5.616944 -0.207491  2369.609925\n",
       "34  5.616936 -0.207489  2424.717132\n",
       "35  5.616941 -0.207488  2479.824340\n",
       "36  5.616943 -0.207487  2534.931547\n",
       "37  5.616947 -0.207485  2590.038755\n",
       "38  5.616941 -0.207481  2645.145962\n",
       "39  5.616960 -0.207490  2700.253170\n",
       "40  5.616956 -0.207489  2755.360377"
      ]
     },
     "execution_count": 6,
     "metadata": {},
     "output_type": "execute_result"
    }
   ],
   "source": [
    "deltatime = ((58*60)+9.180-(9*60)-28.498)/53\n",
    "ddeltatime = 0.1\n",
    "for element in lista:\n",
    "    element.iloc[0,4] = (element.iloc[0,4] - 42) * deltatime\n",
    "lista\n",
    "tiempo = []\n",
    "for element in lista:\n",
    "    tiempo.append(element.iloc[0,4])\n",
    "asteroide['Tiempo'] = pd.Series(tiempo)\n",
    "asteroide"
   ]
  },
  {
   "cell_type": "markdown",
   "id": "351bde17-ab6f-455f-9554-88e9de1f1740",
   "metadata": {},
   "source": [
    "#### LINEAR FIT AND PLOT FOR RIGHT ASCENSION"
   ]
  },
  {
   "cell_type": "code",
   "execution_count": 7,
   "id": "9a68e2a2-f777-4d23-8384-70d67937a48d",
   "metadata": {},
   "outputs": [
    {
     "data": {
      "image/png": "[encoded data removed]",
      "text/plain": [
       "<Figure size 432x288 with 1 Axes>"
      ]
     },
     "metadata": {
      "needs_background": "light"
     },
     "output_type": "display_data"
    },
    {
     "name": "stdout",
     "output_type": "stream",
     "text": [
      "Velocity = 5.029010624270063e-08 rad/sec\n",
      "Velocity error = 5.69983215990058e-10\n",
      "Intersect = 5.6168166579195695\n",
      "Intersect error = 9.080112654171598e-07\n",
      "Adj coef = 0.9975044540756207\n"
     ]
    }
   ],
   "source": [
    "coeficientes, matriz_cov = np.polyfit(asteroide['Tiempo'], asteroide['alpha_o'], 1, cov = True)\n",
    "coef_adj = np.corrcoef(asteroide['Tiempo'], asteroide['alpha_o'])[0,1]\n",
    "m_alpha,b_alpha = coeficientes\n",
    "\n",
    "\n",
    "error_m_alpha = np.sqrt(matriz_cov[0,0])\n",
    "error_b_alpha = np.sqrt(matriz_cov[1,1])\n",
    "\n",
    "y_ajustada = m_alpha * asteroide['Tiempo'] + b_alpha\n",
    "\n",
    "plt.scatter(asteroide['Tiempo'], asteroide['alpha_o'], label = 'dots')\n",
    "plt.plot(np.array(asteroide['Tiempo']), np.array(y_ajustada), color = 'red')\n",
    "plt.xlabel('Time')\n",
    "plt.ylabel('Right Ascension')\n",
    "plt.legend()\n",
    "plt.title('Linear fit')\n",
    "plt.show()\n",
    "print('Velocity =',m_alpha,'rad/sec')\n",
    "print('Velocity error =',error_m_alpha)\n",
    "print('Intersect =',b_alpha)\n",
    "print('Intersect error =',error_b_alpha)\n",
    "print('Adj coef =',coef_adj)\n",
    "#Velocity = 5.029010624270063e-08 rad/sec\n",
    "#Velocity error = 5.69983215990058e-10\n",
    "#Intersect = 5.6168166579195695\n",
    "#Intersect error = 9.080112654171598e-07\n",
    "#Adj coef = 0.9975044540756207"
   ]
  },
  {
   "cell_type": "markdown",
   "id": "290b6dcc-fed8-4e49-8d4c-d31659f8ad8b",
   "metadata": {},
   "source": [
    "#### LINEAR FIT AND PLOT FOR DECLINATION"
   ]
  },
  {
   "cell_type": "code",
   "execution_count": 8,
   "id": "67731943-c30d-4a81-a8af-d92ba236e3a5",
   "metadata": {},
   "outputs": [
    {
     "data": {
      "image/png": "[encoded data removed]",
      "text/plain": [
       "<Figure size 432x288 with 1 Axes>"
      ]
     },
     "metadata": {
      "needs_background": "light"
     },
     "output_type": "display_data"
    },
    {
     "name": "stdout",
     "output_type": "stream",
     "text": [
      "Velocity = 1.4764898406185424e-08 rad/sec\n",
      "Velocity error = 3.782975943021569e-10\n",
      "Intersect = -0.20752554868894127\n",
      "Intersect error = 6.026466528666352e-07\n",
      "Adj coef = 0.9874397557723523\n"
     ]
    }
   ],
   "source": [
    "coeficientes, matriz_cov = np.polyfit(asteroide['Tiempo'], asteroide['delta'], 1, cov = True)\n",
    "coef_adj = np.corrcoef(asteroide['Tiempo'], asteroide['delta'])[0,1]\n",
    "m_delta,b_delta = coeficientes\n",
    "\n",
    "\n",
    "error_m_delta = np.sqrt(matriz_cov[0,0])\n",
    "error_b_delta = np.sqrt(matriz_cov[1,1])\n",
    "\n",
    "y_ajustada = m_delta * asteroide['Tiempo'] + b_delta\n",
    "\n",
    "plt.scatter(asteroide['Tiempo'], asteroide['delta'], label = 'dots')\n",
    "plt.plot(np.array(asteroide['Tiempo']), np.array(y_ajustada), color = 'red')\n",
    "plt.xlabel('Time')\n",
    "plt.ylabel('Declination')\n",
    "plt.legend()\n",
    "plt.title('Linear fit')\n",
    "plt.show()\n",
    "print('Velocity =',m_delta,'rad/sec')\n",
    "print('Velocity error =',error_m_delta)\n",
    "print('Intersect =',b_delta)\n",
    "print('Intersect error =',error_b_delta)\n",
    "print('Adj coef =',coef_adj)\n",
    "#Velocity = 1.4764898406185424e-08 rad/sec\n",
    "#Velocity error = 3.782975943021569e-10\n",
    "#Intersect = -0.20752554868894127\n",
    "#Intersect error = 6.026466528666352e-07\n",
    "#Adj coef = 0.9874397557723523"
   ]
  },
  {
   "cell_type": "markdown",
   "id": "5f429149-0e8e-4d2e-96ef-a3f87ba96d5d",
   "metadata": {},
   "source": [
    "#### TRAJECTORY OF THE ASTEROID"
   ]
  },
  {
   "cell_type": "markdown",
   "id": "3543a7cd-2490-47b4-b17f-629d0f83a009",
   "metadata": {},
   "source": [
    "##### Earth's velocity respect to sun"
   ]
  },
  {
   "cell_type": "code",
   "execution_count": 9,
   "id": "54d9c36f-4b8f-4ee4-af80-f9cd8b681f8d",
   "metadata": {},
   "outputs": [
    {
     "name": "stdout",
     "output_type": "stream",
     "text": [
      "La velocidad de la tierra respecto al sol es [-27783.89088382   9846.74515846   4269.06109227]\n"
     ]
    },
    {
     "data": {
      "text/plain": [
       "array([-5.39047465e+10, -1.28036191e+11, -5.55025671e+10])"
      ]
     },
     "execution_count": 9,
     "metadata": {},
     "output_type": "execute_result"
    }
   ],
   "source": [
    "from astropy.constants import G, au, M_sun\n",
    "s_modulus = au.value\n",
    "M = M_sun.value\n",
    "G = G.value\n",
    "alpha_sun = np.deg2rad(15*(16 + 28/60 + 40.4/3600))\n",
    "delta_sun = np.deg2rad(-(21 + 46/60 + 40.9/3600))\n",
    "s_vector = s_modulus * np.array((np.cos(alpha_sun)*np.cos(delta_sun), np.sin(alpha_sun)*np.cos(delta_sun), np.sin(delta_sun)), float)\n",
    "k_versor = np.array((0, -np.sin(np.deg2rad(23+26/60+21/3600)), np.cos(np.deg2rad(23+26/60+21/3600))), float) #direccion perpendicular a la ecliptica\n",
    "velocity_e_s = np.sqrt(G*M/(s_modulus**3)) * (np.cross(s_vector, k_versor))\n",
    "print('La velocidad de la tierra respecto al sol es', velocity_e_s)\n",
    "s_vector\n",
    "#La velocidad de la tierra respecto al sol es [-27783.89088382   9846.74515846   4269.06109227]\n",
    "#S_vector = array([-5.39047465e+10, -1.28036191e+11, -5.55025671e+10])"
   ]
  },
  {
   "cell_type": "markdown",
   "id": "4e39c9f7-f01b-4a7c-9de4-c0a1352f046d",
   "metadata": {},
   "source": [
    "##### Simbolic resolution of the 2 equations system to obtain distance and velocity of the asteroid from earth"
   ]
  },
  {
   "cell_type": "code",
   "execution_count": 10,
   "id": "75eb6580-faf9-4a4b-a468-f2337dc00d36",
   "metadata": {},
   "outputs": [],
   "source": [
    "d, ud = symbols('d ud') # radial direction from the earth and velocity in the radial direction from the earth\n",
    "x = d * cos(asteroide['alpha_o'][0]) * cos(asteroide['delta'][0])\n",
    "y = d * sin(asteroide['alpha_o'][0]) * cos(asteroide['delta'][0])\n",
    "z = d * sin(asteroide['delta'][0])\n",
    "\n",
    "sx = s_modulus * cos(alpha_sun) * cos(delta_sun)\n",
    "sy = s_modulus * sin(alpha_sun) * cos(delta_sun)\n",
    "sz = s_modulus * sin(delta_sun)\n",
    "\n",
    "ui = -y * m_alpha - z * cos(asteroide['alpha_o'][0]) * m_delta + cos(asteroide['alpha_o'][0]) * cos(asteroide['delta'][0]) * ud  #geocentric velocity in x\n",
    "uj =  x * m_alpha - z * sin(asteroide['alpha_o'][0]) * m_delta + sin(asteroide['alpha_o'][0]) * cos(asteroide['delta'][0]) * ud  #geocentric velocity in y\n",
    "uk =  d * cos(asteroide['delta'][0]) * m_delta + sin(asteroide['delta'][0]) * ud  #geocentric velocity in z\n",
    "\n",
    "s_vec = Matrix([sx, sy, sz])\n",
    "\n",
    "d_vector = Matrix([x, y, z])\n",
    "r_vector = s_vec - d_vector ###### d_vector - s_vec\n",
    "\n",
    "v_a_s = Matrix([ui, uj, uk]) + Matrix(velocity_e_s)\n",
    "v_a_s_norma = v_a_s.dot(v_a_s)\n",
    "r_vector_norma = r_vector.dot(r_vector)\n",
    "\n",
    "eq1 = r_vector.dot(v_a_s)\n",
    "eq2 = r_vector_norma * (v_a_s_norma)**2 - (G*M)**2"
   ]
  },
  {
   "cell_type": "code",
   "execution_count": 11,
   "id": "8f1e4fdd-a36d-4f43-90a4-f4d40fb0dd90",
   "metadata": {},
   "outputs": [
    {
     "data": {
      "text/latex": [
       "$\\displaystyle \\left[\\begin{matrix}3.28104721572539 \\cdot 10^{-8} d + 0.769205198245634 ud - 27783.8908838171\\\\3.6802959297599 \\cdot 10^{-8} d - 0.604873232742594 ud + 9846.745158461\\\\1.44481020274656 \\cdot 10^{-8} d - 0.206038188944232 ud + 4269.06109226838\\end{matrix}\\right]$"
      ],
      "text/plain": [
       "Matrix([\n",
       "[3.28104721572539e-8*d + 0.769205198245634*ud - 27783.8908838171],\n",
       "[   3.6802959297599e-8*d - 0.604873232742594*ud + 9846.745158461],\n",
       "[1.44481020274656e-8*d - 0.206038188944232*ud + 4269.06109226838]])"
      ]
     },
     "execution_count": 11,
     "metadata": {},
     "output_type": "execute_result"
    }
   ],
   "source": [
    "v_a_s"
   ]
  },
  {
   "cell_type": "code",
   "execution_count": 12,
   "id": "7411bd84-0f0a-4316-93a3-809820106588",
   "metadata": {},
   "outputs": [
    {
     "data": {
      "text/plain": [
       "[{ud: 2.5e-8*(-141735535871237.0*d**2 + 1.04622389076646e+41*d - 5.27543621646135e+36)/(1.25e+29*d - 5.92718775731367e+39)}]"
      ]
     },
     "execution_count": 12,
     "metadata": {},
     "output_type": "execute_result"
    }
   ],
   "source": [
    "sol = solve((eq1), (ud), dict=True)\n",
    "sol"
   ]
  },
  {
   "cell_type": "code",
   "execution_count": 13,
   "id": "8d44f3cd-133f-48a0-a925-643b1c74a0d9",
   "metadata": {},
   "outputs": [
    {
     "data": {
      "text/latex": [
       "$\\displaystyle 3.30872245021211 \\cdot 10^{-24} d^{2} - 1.0 d ud + 20924.4778153292 d + 47417502058.5092 ud$"
      ],
      "text/plain": [
       "3.30872245021211e-24*d**2 - 1.0*d*ud + 20924.4778153292*d + 47417502058.5092*ud"
      ]
     },
     "execution_count": 13,
     "metadata": {},
     "output_type": "execute_result"
    }
   ],
   "source": [
    "expand(eq1)##esto es solo para ver como queda"
   ]
  },
  {
   "cell_type": "code",
   "execution_count": 14,
   "id": "c4abda8f-a4de-42dc-a08e-024c7d3a1635",
   "metadata": {},
   "outputs": [],
   "source": [
    "eqnew = fraction(simplify(eq2.subs(ud,1.0e-7*(-214199366135143.0*d**2 + 1.00296139674268e+41*d - 5.27543621646135e+36)/(4.99999999999999e+29*d - 3.15070116174883e+40))))[0]"
   ]
  },
  {
   "cell_type": "code",
   "execution_count": 15,
   "id": "4cbbe6a6-e1e5-4cf7-aca3-9c304dbaab05",
   "metadata": {},
   "outputs": [
    {
     "ename": "KeyboardInterrupt",
     "evalue": "",
     "output_type": "error",
     "traceback": [
      "\u001b[0;31m---------------------------------------------------------------------------\u001b[0m",
      "\u001b[0;31mKeyError\u001b[0m                                  Traceback (most recent call last)",
      "\u001b[0;32m/usr/lib/python3/dist-packages/sympy/polys/rootoftools.py\u001b[0m in \u001b[0;36m_get_complexes\u001b[0;34m(cls, factors, use_cache)\u001b[0m\n\u001b[1;32m    462\u001b[0m                     \u001b[0;32mraise\u001b[0m \u001b[0mKeyError\u001b[0m\u001b[0;34m\u001b[0m\u001b[0;34m\u001b[0m\u001b[0m\n\u001b[0;32m--> 463\u001b[0;31m                 \u001b[0mc\u001b[0m \u001b[0;34m=\u001b[0m \u001b[0m_complexes_cache\u001b[0m\u001b[0;34m[\u001b[0m\u001b[0mcurrentfactor\u001b[0m\u001b[0;34m]\u001b[0m\u001b[0;34m\u001b[0m\u001b[0;34m\u001b[0m\u001b[0m\n\u001b[0m\u001b[1;32m    464\u001b[0m                 \u001b[0mcomplexes\u001b[0m\u001b[0;34m.\u001b[0m\u001b[0mextend\u001b[0m\u001b[0;34m(\u001b[0m\u001b[0;34m[\u001b[0m\u001b[0;34m(\u001b[0m\u001b[0mi\u001b[0m\u001b[0;34m,\u001b[0m \u001b[0mcurrentfactor\u001b[0m\u001b[0;34m,\u001b[0m \u001b[0mk\u001b[0m\u001b[0;34m)\u001b[0m \u001b[0;32mfor\u001b[0m \u001b[0mi\u001b[0m \u001b[0;32min\u001b[0m \u001b[0mc\u001b[0m\u001b[0;34m]\u001b[0m\u001b[0;34m)\u001b[0m\u001b[0;34m\u001b[0m\u001b[0;34m\u001b[0m\u001b[0m\n",
      "\u001b[0;32m/usr/lib/python3/dist-packages/sympy/polys/rootoftools.py\u001b[0m in \u001b[0;36m__getitem__\u001b[0;34m(self, k)\u001b[0m\n\u001b[1;32m     89\u001b[0m             \u001b[0mk\u001b[0m \u001b[0;34m=\u001b[0m \u001b[0mPurePoly\u001b[0m\u001b[0;34m(\u001b[0m\u001b[0mk\u001b[0m\u001b[0;34m,\u001b[0m \u001b[0mexpand\u001b[0m\u001b[0;34m=\u001b[0m\u001b[0;32mFalse\u001b[0m\u001b[0;34m)\u001b[0m\u001b[0;34m\u001b[0m\u001b[0;34m\u001b[0m\u001b[0m\n\u001b[0;32m---> 90\u001b[0;31m         \u001b[0;32mreturn\u001b[0m \u001b[0mself\u001b[0m\u001b[0;34m.\u001b[0m\u001b[0m_dict\u001b[0m\u001b[0;34m[\u001b[0m\u001b[0mk\u001b[0m\u001b[0;34m]\u001b[0m\u001b[0;34m\u001b[0m\u001b[0;34m\u001b[0m\u001b[0m\n\u001b[0m\u001b[1;32m     91\u001b[0m \u001b[0;34m\u001b[0m\u001b[0m\n",
      "\u001b[0;31mKeyError\u001b[0m: PurePoly(63967580267264320355025120079517364501953125*x**10 - 32338587708162139169871807098388671875000000000*x**9 + 8078793514841587543487548828125000000000000000000*x**8 - 1351928032438717041015625000000000000000000000000000*x**7 + 166869889700687863147112056908058821097958995344228352*x**6 - 15709500477566624926528192095274718042521600000000000000*x**5 - 501347198483782517416787714999582720000000000000000000000*x**4 + 129053398749331040805847040000000000000000000000000000000000*x**3 - 5836831345653952000000000000000000000000000000000000000000000*x**2 + 89365197626994997262954711914062500000000000000000000000000000*x - 5289421339361277674129269144032150506973266601562500000, x, domain='ZZ')",
      "\nDuring handling of the above exception, another exception occurred:\n",
      "\u001b[0;31mKeyboardInterrupt\u001b[0m                         Traceback (most recent call last)",
      "\u001b[0;32m/tmp/ipykernel_8862/2970209436.py\u001b[0m in \u001b[0;36m<module>\u001b[0;34m\u001b[0m\n\u001b[0;32m----> 1\u001b[0;31m \u001b[0msol2\u001b[0m \u001b[0;34m=\u001b[0m \u001b[0msolve\u001b[0m\u001b[0;34m(\u001b[0m\u001b[0meqnew\u001b[0m\u001b[0;34m,\u001b[0m \u001b[0md\u001b[0m\u001b[0;34m)\u001b[0m\u001b[0;31m#, check=True, numerical=True, simplify=True, force=True, rational=True, quick=True)s\u001b[0m\u001b[0;34m\u001b[0m\u001b[0;34m\u001b[0m\u001b[0m\n\u001b[0m\u001b[1;32m      2\u001b[0m \u001b[0msol2\u001b[0m\u001b[0;34m\u001b[0m\u001b[0;34m\u001b[0m\u001b[0m\n",
      "\u001b[0;32m/usr/lib/python3/dist-packages/sympy/solvers/solvers.py\u001b[0m in \u001b[0;36msolve\u001b[0;34m(f, *symbols, **flags)\u001b[0m\n\u001b[1;32m   1093\u001b[0m     \u001b[0;31m###########################################################################\u001b[0m\u001b[0;34m\u001b[0m\u001b[0;34m\u001b[0m\u001b[0m\n\u001b[1;32m   1094\u001b[0m     \u001b[0;32mif\u001b[0m \u001b[0mbare_f\u001b[0m\u001b[0;34m:\u001b[0m\u001b[0;34m\u001b[0m\u001b[0;34m\u001b[0m\u001b[0m\n\u001b[0;32m-> 1095\u001b[0;31m         \u001b[0msolution\u001b[0m \u001b[0;34m=\u001b[0m \u001b[0m_solve\u001b[0m\u001b[0;34m(\u001b[0m\u001b[0mf\u001b[0m\u001b[0;34m[\u001b[0m\u001b[0;36m0\u001b[0m\u001b[0;34m]\u001b[0m\u001b[0;34m,\u001b[0m \u001b[0;34m*\u001b[0m\u001b[0msymbols\u001b[0m\u001b[0;34m,\u001b[0m \u001b[0;34m**\u001b[0m\u001b[0mflags\u001b[0m\u001b[0;34m)\u001b[0m\u001b[0;34m\u001b[0m\u001b[0;34m\u001b[0m\u001b[0m\n\u001b[0m\u001b[1;32m   1096\u001b[0m     \u001b[0;32melse\u001b[0m\u001b[0;34m:\u001b[0m\u001b[0;34m\u001b[0m\u001b[0;34m\u001b[0m\u001b[0m\n\u001b[1;32m   1097\u001b[0m         \u001b[0msolution\u001b[0m \u001b[0;34m=\u001b[0m \u001b[0m_solve_system\u001b[0m\u001b[0;34m(\u001b[0m\u001b[0mf\u001b[0m\u001b[0;34m,\u001b[0m \u001b[0msymbols\u001b[0m\u001b[0;34m,\u001b[0m \u001b[0;34m**\u001b[0m\u001b[0mflags\u001b[0m\u001b[0;34m)\u001b[0m\u001b[0;34m\u001b[0m\u001b[0;34m\u001b[0m\u001b[0m\n",
      "\u001b[0;32m/usr/lib/python3/dist-packages/sympy/solvers/solvers.py\u001b[0m in \u001b[0;36m_solve\u001b[0;34m(f, *symbols, **flags)\u001b[0m\n\u001b[1;32m   1627\u001b[0m                     \u001b[0;31m# or high-order EX domain.\u001b[0m\u001b[0;34m\u001b[0m\u001b[0;34m\u001b[0m\u001b[0m\n\u001b[1;32m   1628\u001b[0m                     \u001b[0;32mtry\u001b[0m\u001b[0;34m:\u001b[0m\u001b[0;34m\u001b[0m\u001b[0;34m\u001b[0m\u001b[0m\n\u001b[0;32m-> 1629\u001b[0;31m                         \u001b[0msoln\u001b[0m \u001b[0;34m=\u001b[0m \u001b[0mpoly\u001b[0m\u001b[0;34m.\u001b[0m\u001b[0mall_roots\u001b[0m\u001b[0;34m(\u001b[0m\u001b[0;34m)\u001b[0m\u001b[0;34m\u001b[0m\u001b[0;34m\u001b[0m\u001b[0m\n\u001b[0m\u001b[1;32m   1630\u001b[0m                     \u001b[0;32mexcept\u001b[0m \u001b[0mNotImplementedError\u001b[0m\u001b[0;34m:\u001b[0m\u001b[0;34m\u001b[0m\u001b[0;34m\u001b[0m\u001b[0m\n\u001b[1;32m   1631\u001b[0m                         \u001b[0;32mif\u001b[0m \u001b[0;32mnot\u001b[0m \u001b[0mflags\u001b[0m\u001b[0;34m.\u001b[0m\u001b[0mget\u001b[0m\u001b[0;34m(\u001b[0m\u001b[0;34m'incomplete'\u001b[0m\u001b[0;34m,\u001b[0m \u001b[0;32mTrue\u001b[0m\u001b[0;34m)\u001b[0m\u001b[0;34m:\u001b[0m\u001b[0;34m\u001b[0m\u001b[0;34m\u001b[0m\u001b[0m\n",
      "\u001b[0;32m/usr/lib/python3/dist-packages/sympy/polys/polytools.py\u001b[0m in \u001b[0;36mall_roots\u001b[0;34m(f, multiple, radicals)\u001b[0m\n\u001b[1;32m   3615\u001b[0m \u001b[0;34m\u001b[0m\u001b[0m\n\u001b[1;32m   3616\u001b[0m         \"\"\"\n\u001b[0;32m-> 3617\u001b[0;31m         \u001b[0mroots\u001b[0m \u001b[0;34m=\u001b[0m \u001b[0msympy\u001b[0m\u001b[0;34m.\u001b[0m\u001b[0mpolys\u001b[0m\u001b[0;34m.\u001b[0m\u001b[0mrootoftools\u001b[0m\u001b[0;34m.\u001b[0m\u001b[0mCRootOf\u001b[0m\u001b[0;34m.\u001b[0m\u001b[0mall_roots\u001b[0m\u001b[0;34m(\u001b[0m\u001b[0mf\u001b[0m\u001b[0;34m,\u001b[0m \u001b[0mradicals\u001b[0m\u001b[0;34m=\u001b[0m\u001b[0mradicals\u001b[0m\u001b[0;34m)\u001b[0m\u001b[0;34m\u001b[0m\u001b[0;34m\u001b[0m\u001b[0m\n\u001b[0m\u001b[1;32m   3618\u001b[0m \u001b[0;34m\u001b[0m\u001b[0m\n\u001b[1;32m   3619\u001b[0m         \u001b[0;32mif\u001b[0m \u001b[0mmultiple\u001b[0m\u001b[0;34m:\u001b[0m\u001b[0;34m\u001b[0m\u001b[0;34m\u001b[0m\u001b[0m\n",
      "\u001b[0;32m/usr/lib/python3/dist-packages/sympy/polys/rootoftools.py\u001b[0m in \u001b[0;36mall_roots\u001b[0;34m(cls, poly, radicals)\u001b[0m\n\u001b[1;32m    408\u001b[0m     \u001b[0;32mdef\u001b[0m \u001b[0mall_roots\u001b[0m\u001b[0;34m(\u001b[0m\u001b[0mcls\u001b[0m\u001b[0;34m,\u001b[0m \u001b[0mpoly\u001b[0m\u001b[0;34m,\u001b[0m \u001b[0mradicals\u001b[0m\u001b[0;34m=\u001b[0m\u001b[0;32mTrue\u001b[0m\u001b[0;34m)\u001b[0m\u001b[0;34m:\u001b[0m\u001b[0;34m\u001b[0m\u001b[0;34m\u001b[0m\u001b[0m\n\u001b[1;32m    409\u001b[0m         \u001b[0;34m\"\"\"Get real and complex roots of a polynomial. \"\"\"\u001b[0m\u001b[0;34m\u001b[0m\u001b[0;34m\u001b[0m\u001b[0m\n\u001b[0;32m--> 410\u001b[0;31m         \u001b[0;32mreturn\u001b[0m \u001b[0mcls\u001b[0m\u001b[0;34m.\u001b[0m\u001b[0m_get_roots\u001b[0m\u001b[0;34m(\u001b[0m\u001b[0;34m\"_all_roots\"\u001b[0m\u001b[0;34m,\u001b[0m \u001b[0mpoly\u001b[0m\u001b[0;34m,\u001b[0m \u001b[0mradicals\u001b[0m\u001b[0;34m)\u001b[0m\u001b[0;34m\u001b[0m\u001b[0;34m\u001b[0m\u001b[0m\n\u001b[0m\u001b[1;32m    411\u001b[0m \u001b[0;34m\u001b[0m\u001b[0m\n\u001b[1;32m    412\u001b[0m     \u001b[0;34m@\u001b[0m\u001b[0mclassmethod\u001b[0m\u001b[0;34m\u001b[0m\u001b[0;34m\u001b[0m\u001b[0m\n",
      "\u001b[0;32m/usr/lib/python3/dist-packages/sympy/polys/rootoftools.py\u001b[0m in \u001b[0;36m_get_roots\u001b[0;34m(cls, method, poly, radicals)\u001b[0m\n\u001b[1;32m    751\u001b[0m         \u001b[0mroots\u001b[0m \u001b[0;34m=\u001b[0m \u001b[0;34m[\u001b[0m\u001b[0;34m]\u001b[0m\u001b[0;34m\u001b[0m\u001b[0;34m\u001b[0m\u001b[0m\n\u001b[1;32m    752\u001b[0m \u001b[0;34m\u001b[0m\u001b[0m\n\u001b[0;32m--> 753\u001b[0;31m         \u001b[0;32mfor\u001b[0m \u001b[0mroot\u001b[0m \u001b[0;32min\u001b[0m \u001b[0mgetattr\u001b[0m\u001b[0;34m(\u001b[0m\u001b[0mcls\u001b[0m\u001b[0;34m,\u001b[0m \u001b[0mmethod\u001b[0m\u001b[0;34m)\u001b[0m\u001b[0;34m(\u001b[0m\u001b[0mpoly\u001b[0m\u001b[0;34m)\u001b[0m\u001b[0;34m:\u001b[0m\u001b[0;34m\u001b[0m\u001b[0;34m\u001b[0m\u001b[0m\n\u001b[0m\u001b[1;32m    754\u001b[0m             \u001b[0mroots\u001b[0m\u001b[0;34m.\u001b[0m\u001b[0mappend\u001b[0m\u001b[0;34m(\u001b[0m\u001b[0mcoeff\u001b[0m\u001b[0;34m*\u001b[0m\u001b[0mcls\u001b[0m\u001b[0;34m.\u001b[0m\u001b[0m_postprocess_root\u001b[0m\u001b[0;34m(\u001b[0m\u001b[0mroot\u001b[0m\u001b[0;34m,\u001b[0m \u001b[0mradicals\u001b[0m\u001b[0;34m)\u001b[0m\u001b[0;34m)\u001b[0m\u001b[0;34m\u001b[0m\u001b[0;34m\u001b[0m\u001b[0m\n\u001b[1;32m    755\u001b[0m         \u001b[0;32mreturn\u001b[0m \u001b[0mroots\u001b[0m\u001b[0;34m\u001b[0m\u001b[0;34m\u001b[0m\u001b[0m\n",
      "\u001b[0;32m/usr/lib/python3/dist-packages/sympy/polys/rootoftools.py\u001b[0m in \u001b[0;36m_all_roots\u001b[0;34m(cls, poly, use_cache)\u001b[0m\n\u001b[1;32m    679\u001b[0m             \u001b[0mroots\u001b[0m\u001b[0;34m.\u001b[0m\u001b[0mappend\u001b[0m\u001b[0;34m(\u001b[0m\u001b[0mcls\u001b[0m\u001b[0;34m.\u001b[0m\u001b[0m_reals_index\u001b[0m\u001b[0;34m(\u001b[0m\u001b[0mreals\u001b[0m\u001b[0;34m,\u001b[0m \u001b[0mindex\u001b[0m\u001b[0;34m)\u001b[0m\u001b[0;34m)\u001b[0m\u001b[0;34m\u001b[0m\u001b[0;34m\u001b[0m\u001b[0m\n\u001b[1;32m    680\u001b[0m \u001b[0;34m\u001b[0m\u001b[0m\n\u001b[0;32m--> 681\u001b[0;31m         \u001b[0mcomplexes\u001b[0m \u001b[0;34m=\u001b[0m \u001b[0mcls\u001b[0m\u001b[0;34m.\u001b[0m\u001b[0m_get_complexes\u001b[0m\u001b[0;34m(\u001b[0m\u001b[0mfactors\u001b[0m\u001b[0;34m,\u001b[0m \u001b[0muse_cache\u001b[0m\u001b[0;34m=\u001b[0m\u001b[0muse_cache\u001b[0m\u001b[0;34m)\u001b[0m\u001b[0;34m\u001b[0m\u001b[0;34m\u001b[0m\u001b[0m\n\u001b[0m\u001b[1;32m    682\u001b[0m         \u001b[0mcomplexes_count\u001b[0m \u001b[0;34m=\u001b[0m \u001b[0mcls\u001b[0m\u001b[0;34m.\u001b[0m\u001b[0m_count_roots\u001b[0m\u001b[0;34m(\u001b[0m\u001b[0mcomplexes\u001b[0m\u001b[0;34m)\u001b[0m\u001b[0;34m\u001b[0m\u001b[0;34m\u001b[0m\u001b[0m\n\u001b[1;32m    683\u001b[0m \u001b[0;34m\u001b[0m\u001b[0m\n",
      "\u001b[0;32m/usr/lib/python3/dist-packages/sympy/polys/rootoftools.py\u001b[0m in \u001b[0;36m_get_complexes\u001b[0;34m(cls, factors, use_cache)\u001b[0m\n\u001b[1;32m    464\u001b[0m                 \u001b[0mcomplexes\u001b[0m\u001b[0;34m.\u001b[0m\u001b[0mextend\u001b[0m\u001b[0;34m(\u001b[0m\u001b[0;34m[\u001b[0m\u001b[0;34m(\u001b[0m\u001b[0mi\u001b[0m\u001b[0;34m,\u001b[0m \u001b[0mcurrentfactor\u001b[0m\u001b[0;34m,\u001b[0m \u001b[0mk\u001b[0m\u001b[0;34m)\u001b[0m \u001b[0;32mfor\u001b[0m \u001b[0mi\u001b[0m \u001b[0;32min\u001b[0m \u001b[0mc\u001b[0m\u001b[0;34m]\u001b[0m\u001b[0;34m)\u001b[0m\u001b[0;34m\u001b[0m\u001b[0;34m\u001b[0m\u001b[0m\n\u001b[1;32m    465\u001b[0m             \u001b[0;32mexcept\u001b[0m \u001b[0mKeyError\u001b[0m\u001b[0;34m:\u001b[0m\u001b[0;34m\u001b[0m\u001b[0;34m\u001b[0m\u001b[0m\n\u001b[0;32m--> 466\u001b[0;31m                 \u001b[0mcomplex_part\u001b[0m \u001b[0;34m=\u001b[0m \u001b[0mcls\u001b[0m\u001b[0;34m.\u001b[0m\u001b[0m_get_complexes_sqf\u001b[0m\u001b[0;34m(\u001b[0m\u001b[0mcurrentfactor\u001b[0m\u001b[0;34m,\u001b[0m \u001b[0muse_cache\u001b[0m\u001b[0;34m)\u001b[0m\u001b[0;34m\u001b[0m\u001b[0;34m\u001b[0m\u001b[0m\n\u001b[0m\u001b[1;32m    467\u001b[0m                 \u001b[0mnew\u001b[0m \u001b[0;34m=\u001b[0m \u001b[0;34m[\u001b[0m\u001b[0;34m(\u001b[0m\u001b[0mroot\u001b[0m\u001b[0;34m,\u001b[0m \u001b[0mcurrentfactor\u001b[0m\u001b[0;34m,\u001b[0m \u001b[0mk\u001b[0m\u001b[0;34m)\u001b[0m \u001b[0;32mfor\u001b[0m \u001b[0mroot\u001b[0m \u001b[0;32min\u001b[0m \u001b[0mcomplex_part\u001b[0m\u001b[0;34m]\u001b[0m\u001b[0;34m\u001b[0m\u001b[0;34m\u001b[0m\u001b[0m\n\u001b[1;32m    468\u001b[0m                 \u001b[0mcomplexes\u001b[0m\u001b[0;34m.\u001b[0m\u001b[0mextend\u001b[0m\u001b[0;34m(\u001b[0m\u001b[0mnew\u001b[0m\u001b[0;34m)\u001b[0m\u001b[0;34m\u001b[0m\u001b[0;34m\u001b[0m\u001b[0m\n",
      "\u001b[0;32m/usr/lib/python3/dist-packages/sympy/polys/rootoftools.py\u001b[0m in \u001b[0;36m_get_complexes_sqf\u001b[0;34m(cls, currentfactor, use_cache)\u001b[0m\n\u001b[1;32m    429\u001b[0m         \u001b[0;32melse\u001b[0m\u001b[0;34m:\u001b[0m\u001b[0;34m\u001b[0m\u001b[0;34m\u001b[0m\u001b[0m\n\u001b[1;32m    430\u001b[0m             \u001b[0m_complexes_cache\u001b[0m\u001b[0;34m[\u001b[0m\u001b[0mcurrentfactor\u001b[0m\u001b[0;34m]\u001b[0m \u001b[0;34m=\u001b[0m \u001b[0mcomplex_part\u001b[0m \u001b[0;34m=\u001b[0m\u001b[0;31m \u001b[0m\u001b[0;31m\\\u001b[0m\u001b[0;34m\u001b[0m\u001b[0;34m\u001b[0m\u001b[0m\n\u001b[0;32m--> 431\u001b[0;31m                 dup_isolate_complex_roots_sqf(\n\u001b[0m\u001b[1;32m    432\u001b[0m                 currentfactor.rep.rep, currentfactor.rep.dom, blackbox=True)\n\u001b[1;32m    433\u001b[0m         \u001b[0;32mreturn\u001b[0m \u001b[0mcomplex_part\u001b[0m\u001b[0;34m\u001b[0m\u001b[0;34m\u001b[0m\u001b[0m\n",
      "\u001b[0;32m/usr/lib/python3/dist-packages/sympy/polys/rootisolation.py\u001b[0m in \u001b[0;36mdup_isolate_complex_roots_sqf\u001b[0;34m(f, K, eps, inf, sup, blackbox)\u001b[0m\n\u001b[1;32m   1585\u001b[0m \u001b[0;34m\u001b[0m\u001b[0m\n\u001b[1;32m   1586\u001b[0m         \u001b[0;32mif\u001b[0m \u001b[0ms\u001b[0m \u001b[0;34m-\u001b[0m \u001b[0mu\u001b[0m \u001b[0;34m>\u001b[0m \u001b[0mt\u001b[0m \u001b[0;34m-\u001b[0m \u001b[0mv\u001b[0m\u001b[0;34m:\u001b[0m\u001b[0;34m\u001b[0m\u001b[0;34m\u001b[0m\u001b[0m\n\u001b[0;32m-> 1587\u001b[0;31m             \u001b[0mD_L\u001b[0m\u001b[0;34m,\u001b[0m \u001b[0mD_R\u001b[0m \u001b[0;34m=\u001b[0m \u001b[0m_vertical_bisection\u001b[0m\u001b[0;34m(\u001b[0m\u001b[0mN\u001b[0m\u001b[0;34m,\u001b[0m \u001b[0;34m(\u001b[0m\u001b[0mu\u001b[0m\u001b[0;34m,\u001b[0m \u001b[0mv\u001b[0m\u001b[0;34m)\u001b[0m\u001b[0;34m,\u001b[0m \u001b[0;34m(\u001b[0m\u001b[0ms\u001b[0m\u001b[0;34m,\u001b[0m \u001b[0mt\u001b[0m\u001b[0;34m)\u001b[0m\u001b[0;34m,\u001b[0m \u001b[0mI\u001b[0m\u001b[0;34m,\u001b[0m \u001b[0mQ\u001b[0m\u001b[0;34m,\u001b[0m \u001b[0mF1\u001b[0m\u001b[0;34m,\u001b[0m \u001b[0mF2\u001b[0m\u001b[0;34m,\u001b[0m \u001b[0mf1\u001b[0m\u001b[0;34m,\u001b[0m \u001b[0mf2\u001b[0m\u001b[0;34m,\u001b[0m \u001b[0mF\u001b[0m\u001b[0;34m)\u001b[0m\u001b[0;34m\u001b[0m\u001b[0;34m\u001b[0m\u001b[0m\n\u001b[0m\u001b[1;32m   1588\u001b[0m \u001b[0;34m\u001b[0m\u001b[0m\n\u001b[1;32m   1589\u001b[0m             \u001b[0mN_L\u001b[0m\u001b[0;34m,\u001b[0m \u001b[0ma\u001b[0m\u001b[0;34m,\u001b[0m \u001b[0mb\u001b[0m\u001b[0;34m,\u001b[0m \u001b[0mI_L\u001b[0m\u001b[0;34m,\u001b[0m \u001b[0mQ_L\u001b[0m\u001b[0;34m,\u001b[0m \u001b[0mF1_L\u001b[0m\u001b[0;34m,\u001b[0m \u001b[0mF2_L\u001b[0m \u001b[0;34m=\u001b[0m \u001b[0mD_L\u001b[0m\u001b[0;34m\u001b[0m\u001b[0;34m\u001b[0m\u001b[0m\n",
      "\u001b[0;32m/usr/lib/python3/dist-packages/sympy/polys/rootisolation.py\u001b[0m in \u001b[0;36m_vertical_bisection\u001b[0;34m(N, a, b, I, Q, F1, F2, f1, f2, F)\u001b[0m\n\u001b[1;32m   1288\u001b[0m     \u001b[0mf2V\u001b[0m \u001b[0;34m=\u001b[0m \u001b[0mdmp_eval_in\u001b[0m\u001b[0;34m(\u001b[0m\u001b[0mf2\u001b[0m\u001b[0;34m,\u001b[0m \u001b[0mx\u001b[0m\u001b[0;34m,\u001b[0m \u001b[0;36m0\u001b[0m\u001b[0;34m,\u001b[0m \u001b[0;36m1\u001b[0m\u001b[0;34m,\u001b[0m \u001b[0mF\u001b[0m\u001b[0;34m)\u001b[0m\u001b[0;34m\u001b[0m\u001b[0;34m\u001b[0m\u001b[0m\n\u001b[1;32m   1289\u001b[0m \u001b[0;34m\u001b[0m\u001b[0m\n\u001b[0;32m-> 1290\u001b[0;31m     \u001b[0mI_V\u001b[0m \u001b[0;34m=\u001b[0m \u001b[0mdup_isolate_real_roots_list\u001b[0m\u001b[0;34m(\u001b[0m\u001b[0;34m[\u001b[0m\u001b[0mf1V\u001b[0m\u001b[0;34m,\u001b[0m \u001b[0mf2V\u001b[0m\u001b[0;34m]\u001b[0m\u001b[0;34m,\u001b[0m \u001b[0mF\u001b[0m\u001b[0;34m,\u001b[0m \u001b[0minf\u001b[0m\u001b[0;34m=\u001b[0m\u001b[0mv\u001b[0m\u001b[0;34m,\u001b[0m \u001b[0msup\u001b[0m\u001b[0;34m=\u001b[0m\u001b[0mt\u001b[0m\u001b[0;34m,\u001b[0m \u001b[0mfast\u001b[0m\u001b[0;34m=\u001b[0m\u001b[0;32mTrue\u001b[0m\u001b[0;34m,\u001b[0m \u001b[0mstrict\u001b[0m\u001b[0;34m=\u001b[0m\u001b[0;32mTrue\u001b[0m\u001b[0;34m,\u001b[0m \u001b[0mbasis\u001b[0m\u001b[0;34m=\u001b[0m\u001b[0;32mTrue\u001b[0m\u001b[0;34m)\u001b[0m\u001b[0;34m\u001b[0m\u001b[0;34m\u001b[0m\u001b[0m\n\u001b[0m\u001b[1;32m   1291\u001b[0m \u001b[0;34m\u001b[0m\u001b[0m\n\u001b[1;32m   1292\u001b[0m     \u001b[0mI_L1_L\u001b[0m\u001b[0;34m,\u001b[0m \u001b[0mI_L1_R\u001b[0m \u001b[0;34m=\u001b[0m \u001b[0;34m[\u001b[0m\u001b[0;34m]\u001b[0m\u001b[0;34m,\u001b[0m \u001b[0;34m[\u001b[0m\u001b[0;34m]\u001b[0m\u001b[0;34m\u001b[0m\u001b[0;34m\u001b[0m\u001b[0m\n",
      "\u001b[0;32m/usr/lib/python3/dist-packages/sympy/polys/rootisolation.py\u001b[0m in \u001b[0;36mdup_isolate_real_roots_list\u001b[0;34m(polys, K, eps, inf, sup, strict, basis, fast)\u001b[0m\n\u001b[1;32m    589\u001b[0m             \u001b[0mzero_indices\u001b[0m\u001b[0;34m[\u001b[0m\u001b[0mi\u001b[0m\u001b[0;34m]\u001b[0m \u001b[0;34m=\u001b[0m \u001b[0mj\u001b[0m\u001b[0;34m\u001b[0m\u001b[0;34m\u001b[0m\u001b[0m\n\u001b[1;32m    590\u001b[0m \u001b[0;34m\u001b[0m\u001b[0m\n\u001b[0;32m--> 591\u001b[0;31m         \u001b[0;32mfor\u001b[0m \u001b[0mf\u001b[0m\u001b[0;34m,\u001b[0m \u001b[0mk\u001b[0m \u001b[0;32min\u001b[0m \u001b[0mdup_factor_list\u001b[0m\u001b[0;34m(\u001b[0m\u001b[0mp\u001b[0m\u001b[0;34m,\u001b[0m \u001b[0mK\u001b[0m\u001b[0;34m)\u001b[0m\u001b[0;34m[\u001b[0m\u001b[0;36m1\u001b[0m\u001b[0;34m]\u001b[0m\u001b[0;34m:\u001b[0m\u001b[0;34m\u001b[0m\u001b[0;34m\u001b[0m\u001b[0m\n\u001b[0m\u001b[1;32m    592\u001b[0m             \u001b[0mf\u001b[0m \u001b[0;34m=\u001b[0m \u001b[0mtuple\u001b[0m\u001b[0;34m(\u001b[0m\u001b[0mf\u001b[0m\u001b[0;34m)\u001b[0m\u001b[0;34m\u001b[0m\u001b[0;34m\u001b[0m\u001b[0m\n\u001b[1;32m    593\u001b[0m \u001b[0;34m\u001b[0m\u001b[0m\n",
      "\u001b[0;32m/usr/lib/python3/dist-packages/sympy/polys/factortools.py\u001b[0m in \u001b[0;36mdup_factor_list\u001b[0;34m(f, K0)\u001b[0m\n\u001b[1;32m   1328\u001b[0m \u001b[0;34m\u001b[0m\u001b[0m\n\u001b[1;32m   1329\u001b[0m         \u001b[0;32mif\u001b[0m \u001b[0mK\u001b[0m\u001b[0;34m.\u001b[0m\u001b[0mis_ZZ\u001b[0m\u001b[0;34m:\u001b[0m\u001b[0;34m\u001b[0m\u001b[0;34m\u001b[0m\u001b[0m\n\u001b[0;32m-> 1330\u001b[0;31m             \u001b[0mcoeff\u001b[0m\u001b[0;34m,\u001b[0m \u001b[0mfactors\u001b[0m \u001b[0;34m=\u001b[0m \u001b[0mdup_zz_factor\u001b[0m\u001b[0;34m(\u001b[0m\u001b[0mf\u001b[0m\u001b[0;34m,\u001b[0m \u001b[0mK\u001b[0m\u001b[0;34m)\u001b[0m\u001b[0;34m\u001b[0m\u001b[0;34m\u001b[0m\u001b[0m\n\u001b[0m\u001b[1;32m   1331\u001b[0m         \u001b[0;32melif\u001b[0m \u001b[0mK\u001b[0m\u001b[0;34m.\u001b[0m\u001b[0mis_Poly\u001b[0m\u001b[0;34m:\u001b[0m\u001b[0;34m\u001b[0m\u001b[0;34m\u001b[0m\u001b[0m\n\u001b[1;32m   1332\u001b[0m             \u001b[0mf\u001b[0m\u001b[0;34m,\u001b[0m \u001b[0mu\u001b[0m \u001b[0;34m=\u001b[0m \u001b[0mdmp_inject\u001b[0m\u001b[0;34m(\u001b[0m\u001b[0mf\u001b[0m\u001b[0;34m,\u001b[0m \u001b[0;36m0\u001b[0m\u001b[0;34m,\u001b[0m \u001b[0mK\u001b[0m\u001b[0;34m)\u001b[0m\u001b[0;34m\u001b[0m\u001b[0;34m\u001b[0m\u001b[0m\n",
      "\u001b[0;32m/usr/lib/python3/dist-packages/sympy/polys/factortools.py\u001b[0m in \u001b[0;36mdup_zz_factor\u001b[0;34m(f, K)\u001b[0m\n\u001b[1;32m    674\u001b[0m \u001b[0;34m\u001b[0m\u001b[0m\n\u001b[1;32m    675\u001b[0m     \u001b[0;32mif\u001b[0m \u001b[0mH\u001b[0m \u001b[0;32mis\u001b[0m \u001b[0;32mNone\u001b[0m\u001b[0;34m:\u001b[0m\u001b[0;34m\u001b[0m\u001b[0;34m\u001b[0m\u001b[0m\n\u001b[0;32m--> 676\u001b[0;31m         \u001b[0mH\u001b[0m \u001b[0;34m=\u001b[0m \u001b[0mdup_zz_zassenhaus\u001b[0m\u001b[0;34m(\u001b[0m\u001b[0mg\u001b[0m\u001b[0;34m,\u001b[0m \u001b[0mK\u001b[0m\u001b[0;34m)\u001b[0m\u001b[0;34m\u001b[0m\u001b[0;34m\u001b[0m\u001b[0m\n\u001b[0m\u001b[1;32m    677\u001b[0m \u001b[0;34m\u001b[0m\u001b[0m\n\u001b[1;32m    678\u001b[0m     \u001b[0mfactors\u001b[0m \u001b[0;34m=\u001b[0m \u001b[0mdup_trial_division\u001b[0m\u001b[0;34m(\u001b[0m\u001b[0mf\u001b[0m\u001b[0;34m,\u001b[0m \u001b[0mH\u001b[0m\u001b[0;34m,\u001b[0m \u001b[0mK\u001b[0m\u001b[0;34m)\u001b[0m\u001b[0;34m\u001b[0m\u001b[0;34m\u001b[0m\u001b[0m\n",
      "\u001b[0;32m/usr/lib/python3/dist-packages/sympy/polys/factortools.py\u001b[0m in \u001b[0;36mdup_zz_zassenhaus\u001b[0;34m(f, K)\u001b[0m\n\u001b[1;32m    351\u001b[0m     \u001b[0mmodular\u001b[0m \u001b[0;34m=\u001b[0m \u001b[0;34m[\u001b[0m\u001b[0mgf_to_int_poly\u001b[0m\u001b[0;34m(\u001b[0m\u001b[0mff\u001b[0m\u001b[0;34m,\u001b[0m \u001b[0mp\u001b[0m\u001b[0;34m)\u001b[0m \u001b[0;32mfor\u001b[0m \u001b[0mff\u001b[0m \u001b[0;32min\u001b[0m \u001b[0mfsqf\u001b[0m\u001b[0;34m]\u001b[0m\u001b[0;34m\u001b[0m\u001b[0;34m\u001b[0m\u001b[0m\n\u001b[1;32m    352\u001b[0m \u001b[0;34m\u001b[0m\u001b[0m\n\u001b[0;32m--> 353\u001b[0;31m     \u001b[0mg\u001b[0m \u001b[0;34m=\u001b[0m \u001b[0mdup_zz_hensel_lift\u001b[0m\u001b[0;34m(\u001b[0m\u001b[0mp\u001b[0m\u001b[0;34m,\u001b[0m \u001b[0mf\u001b[0m\u001b[0;34m,\u001b[0m \u001b[0mmodular\u001b[0m\u001b[0;34m,\u001b[0m \u001b[0ml\u001b[0m\u001b[0;34m,\u001b[0m \u001b[0mK\u001b[0m\u001b[0;34m)\u001b[0m\u001b[0;34m\u001b[0m\u001b[0;34m\u001b[0m\u001b[0m\n\u001b[0m\u001b[1;32m    354\u001b[0m \u001b[0;34m\u001b[0m\u001b[0m\n\u001b[1;32m    355\u001b[0m     \u001b[0msorted_T\u001b[0m \u001b[0;34m=\u001b[0m \u001b[0mrange\u001b[0m\u001b[0;34m(\u001b[0m\u001b[0mlen\u001b[0m\u001b[0;34m(\u001b[0m\u001b[0mg\u001b[0m\u001b[0;34m)\u001b[0m\u001b[0;34m)\u001b[0m\u001b[0;34m\u001b[0m\u001b[0;34m\u001b[0m\u001b[0m\n",
      "\u001b[0;32m/usr/lib/python3/dist-packages/sympy/polys/factortools.py\u001b[0m in \u001b[0;36mdup_zz_hensel_lift\u001b[0;34m(p, f, f_list, l, K)\u001b[0m\n\u001b[1;32m    301\u001b[0m \u001b[0;34m\u001b[0m\u001b[0m\n\u001b[1;32m    302\u001b[0m     \u001b[0;32mfor\u001b[0m \u001b[0m_\u001b[0m \u001b[0;32min\u001b[0m \u001b[0mrange\u001b[0m\u001b[0;34m(\u001b[0m\u001b[0;36m1\u001b[0m\u001b[0;34m,\u001b[0m \u001b[0md\u001b[0m \u001b[0;34m+\u001b[0m \u001b[0;36m1\u001b[0m\u001b[0;34m)\u001b[0m\u001b[0;34m:\u001b[0m\u001b[0;34m\u001b[0m\u001b[0;34m\u001b[0m\u001b[0m\n\u001b[0;32m--> 303\u001b[0;31m         \u001b[0;34m(\u001b[0m\u001b[0mg\u001b[0m\u001b[0;34m,\u001b[0m \u001b[0mh\u001b[0m\u001b[0;34m,\u001b[0m \u001b[0ms\u001b[0m\u001b[0;34m,\u001b[0m \u001b[0mt\u001b[0m\u001b[0;34m)\u001b[0m\u001b[0;34m,\u001b[0m \u001b[0mm\u001b[0m \u001b[0;34m=\u001b[0m \u001b[0mdup_zz_hensel_step\u001b[0m\u001b[0;34m(\u001b[0m\u001b[0mm\u001b[0m\u001b[0;34m,\u001b[0m \u001b[0mf\u001b[0m\u001b[0;34m,\u001b[0m \u001b[0mg\u001b[0m\u001b[0;34m,\u001b[0m \u001b[0mh\u001b[0m\u001b[0;34m,\u001b[0m \u001b[0ms\u001b[0m\u001b[0;34m,\u001b[0m \u001b[0mt\u001b[0m\u001b[0;34m,\u001b[0m \u001b[0mK\u001b[0m\u001b[0;34m)\u001b[0m\u001b[0;34m,\u001b[0m \u001b[0mm\u001b[0m\u001b[0;34m**\u001b[0m\u001b[0;36m2\u001b[0m\u001b[0;34m\u001b[0m\u001b[0;34m\u001b[0m\u001b[0m\n\u001b[0m\u001b[1;32m    304\u001b[0m \u001b[0;34m\u001b[0m\u001b[0m\n\u001b[1;32m    305\u001b[0m     \u001b[0;32mreturn\u001b[0m \u001b[0mdup_zz_hensel_lift\u001b[0m\u001b[0;34m(\u001b[0m\u001b[0mp\u001b[0m\u001b[0;34m,\u001b[0m \u001b[0mg\u001b[0m\u001b[0;34m,\u001b[0m \u001b[0mf_list\u001b[0m\u001b[0;34m[\u001b[0m\u001b[0;34m:\u001b[0m\u001b[0mk\u001b[0m\u001b[0;34m]\u001b[0m\u001b[0;34m,\u001b[0m \u001b[0ml\u001b[0m\u001b[0;34m,\u001b[0m \u001b[0mK\u001b[0m\u001b[0;34m)\u001b[0m\u001b[0;31m \u001b[0m\u001b[0;31m\\\u001b[0m\u001b[0;34m\u001b[0m\u001b[0;34m\u001b[0m\u001b[0m\n",
      "\u001b[0;32m/usr/lib/python3/dist-packages/sympy/polys/factortools.py\u001b[0m in \u001b[0;36mdup_zz_hensel_step\u001b[0;34m(m, f, g, h, s, t, K)\u001b[0m\n\u001b[1;32m    225\u001b[0m     \u001b[0me\u001b[0m \u001b[0;34m=\u001b[0m \u001b[0mdup_trunc\u001b[0m\u001b[0;34m(\u001b[0m\u001b[0me\u001b[0m\u001b[0;34m,\u001b[0m \u001b[0mM\u001b[0m\u001b[0;34m,\u001b[0m \u001b[0mK\u001b[0m\u001b[0;34m)\u001b[0m\u001b[0;34m\u001b[0m\u001b[0;34m\u001b[0m\u001b[0m\n\u001b[1;32m    226\u001b[0m \u001b[0;34m\u001b[0m\u001b[0m\n\u001b[0;32m--> 227\u001b[0;31m     \u001b[0mq\u001b[0m\u001b[0;34m,\u001b[0m \u001b[0mr\u001b[0m \u001b[0;34m=\u001b[0m \u001b[0mdup_div\u001b[0m\u001b[0;34m(\u001b[0m\u001b[0mdup_mul\u001b[0m\u001b[0;34m(\u001b[0m\u001b[0ms\u001b[0m\u001b[0;34m,\u001b[0m \u001b[0me\u001b[0m\u001b[0;34m,\u001b[0m \u001b[0mK\u001b[0m\u001b[0;34m)\u001b[0m\u001b[0;34m,\u001b[0m \u001b[0mh\u001b[0m\u001b[0;34m,\u001b[0m \u001b[0mK\u001b[0m\u001b[0;34m)\u001b[0m\u001b[0;34m\u001b[0m\u001b[0;34m\u001b[0m\u001b[0m\n\u001b[0m\u001b[1;32m    228\u001b[0m \u001b[0;34m\u001b[0m\u001b[0m\n\u001b[1;32m    229\u001b[0m     \u001b[0mq\u001b[0m \u001b[0;34m=\u001b[0m \u001b[0mdup_trunc\u001b[0m\u001b[0;34m(\u001b[0m\u001b[0mq\u001b[0m\u001b[0;34m,\u001b[0m \u001b[0mM\u001b[0m\u001b[0;34m,\u001b[0m \u001b[0mK\u001b[0m\u001b[0;34m)\u001b[0m\u001b[0;34m\u001b[0m\u001b[0;34m\u001b[0m\u001b[0m\n",
      "\u001b[0;32m/usr/lib/python3/dist-packages/sympy/polys/densearith.py\u001b[0m in \u001b[0;36mdup_div\u001b[0;34m(f, g, K)\u001b[0m\n\u001b[1;32m   1534\u001b[0m         \u001b[0;32mreturn\u001b[0m \u001b[0mdup_ff_div\u001b[0m\u001b[0;34m(\u001b[0m\u001b[0mf\u001b[0m\u001b[0;34m,\u001b[0m \u001b[0mg\u001b[0m\u001b[0;34m,\u001b[0m \u001b[0mK\u001b[0m\u001b[0;34m)\u001b[0m\u001b[0;34m\u001b[0m\u001b[0;34m\u001b[0m\u001b[0m\n\u001b[1;32m   1535\u001b[0m     \u001b[0;32melse\u001b[0m\u001b[0;34m:\u001b[0m\u001b[0;34m\u001b[0m\u001b[0;34m\u001b[0m\u001b[0m\n\u001b[0;32m-> 1536\u001b[0;31m         \u001b[0;32mreturn\u001b[0m \u001b[0mdup_rr_div\u001b[0m\u001b[0;34m(\u001b[0m\u001b[0mf\u001b[0m\u001b[0;34m,\u001b[0m \u001b[0mg\u001b[0m\u001b[0;34m,\u001b[0m \u001b[0mK\u001b[0m\u001b[0;34m)\u001b[0m\u001b[0;34m\u001b[0m\u001b[0;34m\u001b[0m\u001b[0m\n\u001b[0m\u001b[1;32m   1537\u001b[0m \u001b[0;34m\u001b[0m\u001b[0m\n\u001b[1;32m   1538\u001b[0m \u001b[0;34m\u001b[0m\u001b[0m\n",
      "\u001b[0;32m/usr/lib/python3/dist-packages/sympy/polys/densearith.py\u001b[0m in \u001b[0;36mdup_rr_div\u001b[0;34m(f, g, K)\u001b[0m\n\u001b[1;32m   1341\u001b[0m         \u001b[0mj\u001b[0m \u001b[0;34m=\u001b[0m \u001b[0mdr\u001b[0m \u001b[0;34m-\u001b[0m \u001b[0mdg\u001b[0m\u001b[0;34m\u001b[0m\u001b[0;34m\u001b[0m\u001b[0m\n\u001b[1;32m   1342\u001b[0m \u001b[0;34m\u001b[0m\u001b[0m\n\u001b[0;32m-> 1343\u001b[0;31m         \u001b[0mq\u001b[0m \u001b[0;34m=\u001b[0m \u001b[0mdup_add_term\u001b[0m\u001b[0;34m(\u001b[0m\u001b[0mq\u001b[0m\u001b[0;34m,\u001b[0m \u001b[0mc\u001b[0m\u001b[0;34m,\u001b[0m \u001b[0mj\u001b[0m\u001b[0;34m,\u001b[0m \u001b[0mK\u001b[0m\u001b[0;34m)\u001b[0m\u001b[0;34m\u001b[0m\u001b[0;34m\u001b[0m\u001b[0m\n\u001b[0m\u001b[1;32m   1344\u001b[0m         \u001b[0mh\u001b[0m \u001b[0;34m=\u001b[0m \u001b[0mdup_mul_term\u001b[0m\u001b[0;34m(\u001b[0m\u001b[0mg\u001b[0m\u001b[0;34m,\u001b[0m \u001b[0mc\u001b[0m\u001b[0;34m,\u001b[0m \u001b[0mj\u001b[0m\u001b[0;34m,\u001b[0m \u001b[0mK\u001b[0m\u001b[0;34m)\u001b[0m\u001b[0;34m\u001b[0m\u001b[0;34m\u001b[0m\u001b[0m\n\u001b[1;32m   1345\u001b[0m         \u001b[0mr\u001b[0m \u001b[0;34m=\u001b[0m \u001b[0mdup_sub\u001b[0m\u001b[0;34m(\u001b[0m\u001b[0mr\u001b[0m\u001b[0;34m,\u001b[0m \u001b[0mh\u001b[0m\u001b[0;34m,\u001b[0m \u001b[0mK\u001b[0m\u001b[0;34m)\u001b[0m\u001b[0;34m\u001b[0m\u001b[0;34m\u001b[0m\u001b[0m\n",
      "\u001b[0;31mKeyboardInterrupt\u001b[0m: "
     ]
    }
   ],
   "source": [
    "sol2 = solve(eqnew, d)#, check=True, numerical=True, simplify=True, force=True, rational=True, quick=True)s\n",
    "sol2"
   ]
  },
  {
   "cell_type": "code",
   "execution_count": null,
   "id": "2272a8ec-15e5-4575-98f1-cc07f1edcc3d",
   "metadata": {},
   "outputs": [],
   "source": [
    "print('La distancia asteroide-tierra (d) es =',sol2[3]/s_modulus,'au')"
   ]
  },
  {
   "cell_type": "markdown",
   "id": "65026bae-2caa-4e06-a16a-c8d393f3e157",
   "metadata": {},
   "source": [
    "##### Orbit's parameter"
   ]
  },
  {
   "cell_type": "code",
   "execution_count": null,
   "id": "a4b096a6-d635-45f3-b6c1-34ea4887863b",
   "metadata": {},
   "outputs": [],
   "source": [
    "#asteroid sun orbit radius\n",
    "r_vector = r_vector.subs(d, sol2[3])\n",
    "orbit_radius = r_vector.dot(r_vector)\n",
    "orbit_radius\n",
    "#asteroid velocity respoect to sun\n",
    "v_a_s = v_a_s.subs(d, sol2[3])\n",
    "vel_a_e = (sol[0][ud]).subs(d, sol2[3])\n",
    "v_a_s = v_a_s.subs(ud, vel_a_e)\n",
    "v_a_s_mod = v_a_s.norm()\n",
    "print(v_a_s_mod)\n",
    "print(float(r_vector.norm())/s_modulus)"
   ]
  },
  {
   "cell_type": "code",
   "execution_count": null,
   "id": "ac56d478-adfe-43a7-91de-98e55ea0c577",
   "metadata": {},
   "outputs": [],
   "source": [
    "#n vector perperndicular to the asteroid-sun orbit plane\n",
    "n_vector = v_a_s.cross(r_vector)\n",
    "n_versor = n_vector/n_vector.norm()\n",
    "n_versor"
   ]
  },
  {
   "cell_type": "code",
   "execution_count": null,
   "id": "4ac855a9-20c9-4af1-8f04-ac144457a395",
   "metadata": {},
   "outputs": [],
   "source": [
    "#inclination between earth-sun and asteroid-sun orbits\n",
    "k_versor = Matrix(k_versor)\n",
    "inclination = acos(k_versor.dot(n_versor))\n",
    "inclination_deg = float(deg(inclination))\n",
    "print(inclination,'rad')\n",
    "print(inclination_deg,'deg')\n",
    "print('horizon table 3.831600358837806 deg')"
   ]
  },
  {
   "cell_type": "code",
   "execution_count": null,
   "id": "bac5c2bb-4e52-4a66-a22e-cc47497b3277",
   "metadata": {},
   "outputs": [],
   "source": [
    "#ascending node and longitude of ascending node\n",
    "asc_node_versor = k_versor.cross(n_versor)/sin(inclination)\n",
    "vernal_point = Matrix([1,0,0])\n",
    "asc_node_long = acos(vernal_point.dot(asc_node_versor)) #tenemos que elegir el valor negativo de acos porque la comoponente y del vector es negativa\n",
    "asc_node_long_deg = np.rad2deg(float(-asc_node_long))\n",
    "print(asc_node_long,'rad')\n",
    "print(360+asc_node_long_deg,'deg')\n",
    "print(asc_node_versor)\n",
    "print('horizon table 283.2129733452493 deg')"
   ]
  }
 ],
 "metadata": {
  "kernelspec": {
   "display_name": "Python 3 (ipykernel)",
   "language": "python",
   "name": "python3"
  },
  "language_info": {
   "codemirror_mode": {
    "name": "ipython",
    "version": 3
   },
   "file_extension": ".py",
   "mimetype": "text/x-python",
   "name": "python",
   "nbconvert_exporter": "python",
   "pygments_lexer": "ipython3",
   "version": "3.9.13"
  }
 },
 "nbformat": 4,
 "nbformat_minor": 5
}
