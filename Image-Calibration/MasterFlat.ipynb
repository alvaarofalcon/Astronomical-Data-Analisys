{
 "cells": [
  {
   "cell_type": "code",
   "execution_count": null,
   "id": "5de0eece-96f6-4aa3-9add-3d580ec92c1e",
   "metadata": {},
   "outputs": [],
   "source": [
    "#Developed by Prof. Valerio Bozza, University of Salerno, Italy\n",
    "import os, glob\n",
    "import numpy as np\n",
    "import ccdproc\n",
    "import matplotlib\n",
    "import matplotlib.pyplot as plt\n",
    "from astropy.nddata import CCDData "
   ]
  },
  {
   "cell_type": "code",
   "execution_count": 2,
   "id": "49eaf49f-312a-46d8-8256-284a71b35d82",
   "metadata": {},
   "outputs": [],
   "source": [
    "flatpath ='/home/astro/Documenti/2023/ELLIP_GALAXY/FlatR/*.FIT'\n",
    "\n",
    "darkflatpath='/home/astro/Documenti/2023/ELLIP_GALAXY/bias/*.FIT'\n",
    "\n",
    "masterflatfile ='/home/astro/Documenti/2023/ELLIP_GALAXY/masterflatR.FIT'"
   ]
  },
  {
   "cell_type": "code",
   "execution_count": 3,
   "id": "70673145-7880-4895-91ca-ca45cc952063",
   "metadata": {},
   "outputs": [
    {
     "name": "stdout",
     "output_type": "stream",
     "text": [
      "['/home/astro/Documenti/2023/ELLIP_GALAXY/bias/bias.00000001.BIAS.FIT', '/home/astro/Documenti/2023/ELLIP_GALAXY/bias/bias.00000002.BIAS.FIT', '/home/astro/Documenti/2023/ELLIP_GALAXY/bias/bias.00000003.BIAS.FIT', '/home/astro/Documenti/2023/ELLIP_GALAXY/bias/bias.00000004.BIAS.FIT', '/home/astro/Documenti/2023/ELLIP_GALAXY/bias/bias.00000005.BIAS.FIT', '/home/astro/Documenti/2023/ELLIP_GALAXY/bias/bias.00000006.BIAS.FIT', '/home/astro/Documenti/2023/ELLIP_GALAXY/bias/bias.00000007.BIAS.FIT', '/home/astro/Documenti/2023/ELLIP_GALAXY/bias/bias.00000008.BIAS.FIT', '/home/astro/Documenti/2023/ELLIP_GALAXY/bias/bias.00000009.BIAS.FIT', '/home/astro/Documenti/2023/ELLIP_GALAXY/bias/bias.00000010.BIAS.FIT', '/home/astro/Documenti/2023/ELLIP_GALAXY/bias/bias.00000011.BIAS.FIT', '/home/astro/Documenti/2023/ELLIP_GALAXY/bias/bias.00000012.BIAS.FIT', '/home/astro/Documenti/2023/ELLIP_GALAXY/bias/bias.00000013.BIAS.FIT', '/home/astro/Documenti/2023/ELLIP_GALAXY/bias/bias.00000014.BIAS.FIT', '/home/astro/Documenti/2023/ELLIP_GALAXY/bias/bias.00000015.BIAS.FIT']\n"
     ]
    }
   ],
   "source": [
    "darkfiles=glob.glob(darkflatpath)\n",
    "darkfiles.sort()\n",
    "print(darkfiles)"
   ]
  },
  {
   "cell_type": "code",
   "execution_count": 4,
   "id": "abaa107a-c046-4914-9dab-de448da001ff",
   "metadata": {},
   "outputs": [
    {
     "name": "stdout",
     "output_type": "stream",
     "text": [
      "['/home/astro/Documenti/2023/ELLIP_GALAXY/FlatR/flatR.00000016.FLAT.FIT', '/home/astro/Documenti/2023/ELLIP_GALAXY/FlatR/flatR.00000017.FLAT.FIT', '/home/astro/Documenti/2023/ELLIP_GALAXY/FlatR/flatR.00000018.FLAT.FIT', '/home/astro/Documenti/2023/ELLIP_GALAXY/FlatR/flatR.00000019.FLAT.FIT', '/home/astro/Documenti/2023/ELLIP_GALAXY/FlatR/flatR.00000020.FLAT.FIT', '/home/astro/Documenti/2023/ELLIP_GALAXY/FlatR/flatR.00000021.FLAT.FIT', '/home/astro/Documenti/2023/ELLIP_GALAXY/FlatR/flatR.00000022.FLAT.FIT', '/home/astro/Documenti/2023/ELLIP_GALAXY/FlatR/flatR.00000023.FLAT.FIT', '/home/astro/Documenti/2023/ELLIP_GALAXY/FlatR/flatR.00000024.FLAT.FIT', '/home/astro/Documenti/2023/ELLIP_GALAXY/FlatR/flatR.00000025.FLAT.FIT', '/home/astro/Documenti/2023/ELLIP_GALAXY/FlatR/flatR.00000026.FLAT.FIT', '/home/astro/Documenti/2023/ELLIP_GALAXY/FlatR/flatR.00000027.FLAT.FIT', '/home/astro/Documenti/2023/ELLIP_GALAXY/FlatR/flatR.00000028.FLAT.FIT', '/home/astro/Documenti/2023/ELLIP_GALAXY/FlatR/flatR.00000029.FLAT.FIT', '/home/astro/Documenti/2023/ELLIP_GALAXY/FlatR/flatR.00000030.FLAT.FIT']\n"
     ]
    }
   ],
   "source": [
    "flatfiles=glob.glob(flatpath)\n",
    "flatfiles.sort()\n",
    "print(flatfiles)"
   ]
  },
  {
   "cell_type": "code",
   "execution_count": 5,
   "id": "9c99d9d7-f3d2-4827-b049-42c568d68e51",
   "metadata": {},
   "outputs": [],
   "source": [
    "#flatfiles_V=glob.glob(flatpath_V)\n",
    "#flatfiles_V.sort()\n",
    "#print(flatfiles_V)"
   ]
  },
  {
   "cell_type": "code",
   "execution_count": 6,
   "id": "ea2812cb-26c7-4105-8040-10d9c2ba6f19",
   "metadata": {},
   "outputs": [
    {
     "name": "stderr",
     "output_type": "stream",
     "text": [
      "WARNING: FITSFixedWarning: 'datfix' made the change 'Set MJD-OBS to 60054.748032 from DATE-OBS'. [astropy.wcs.wcs]\n",
      "WARNING: FITSFixedWarning: 'datfix' made the change 'Set MJD-OBS to 60054.748101 from DATE-OBS'. [astropy.wcs.wcs]\n",
      "WARNING: FITSFixedWarning: 'datfix' made the change 'Set MJD-OBS to 60054.748170 from DATE-OBS'. [astropy.wcs.wcs]\n",
      "WARNING: FITSFixedWarning: 'datfix' made the change 'Set MJD-OBS to 60054.748239 from DATE-OBS'. [astropy.wcs.wcs]\n",
      "WARNING: FITSFixedWarning: 'datfix' made the change 'Set MJD-OBS to 60054.748308 from DATE-OBS'. [astropy.wcs.wcs]\n",
      "WARNING: FITSFixedWarning: 'datfix' made the change 'Set MJD-OBS to 60054.748377 from DATE-OBS'. [astropy.wcs.wcs]\n",
      "WARNING: FITSFixedWarning: 'datfix' made the change 'Set MJD-OBS to 60054.748445 from DATE-OBS'. [astropy.wcs.wcs]\n",
      "WARNING: FITSFixedWarning: 'datfix' made the change 'Set MJD-OBS to 60054.748514 from DATE-OBS'. [astropy.wcs.wcs]\n",
      "WARNING: FITSFixedWarning: 'datfix' made the change 'Set MJD-OBS to 60054.748583 from DATE-OBS'. [astropy.wcs.wcs]\n",
      "WARNING: FITSFixedWarning: 'datfix' made the change 'Set MJD-OBS to 60054.748652 from DATE-OBS'. [astropy.wcs.wcs]\n",
      "WARNING: FITSFixedWarning: 'datfix' made the change 'Set MJD-OBS to 60054.748721 from DATE-OBS'. [astropy.wcs.wcs]\n",
      "WARNING: FITSFixedWarning: 'datfix' made the change 'Set MJD-OBS to 60054.748791 from DATE-OBS'. [astropy.wcs.wcs]\n",
      "WARNING: FITSFixedWarning: 'datfix' made the change 'Set MJD-OBS to 60054.748861 from DATE-OBS'. [astropy.wcs.wcs]\n",
      "WARNING: FITSFixedWarning: 'datfix' made the change 'Set MJD-OBS to 60054.748931 from DATE-OBS'. [astropy.wcs.wcs]\n",
      "WARNING: FITSFixedWarning: 'datfix' made the change 'Set MJD-OBS to 60054.749001 from DATE-OBS'. [astropy.wcs.wcs]\n"
     ]
    }
   ],
   "source": [
    "darks=[CCDData.read(dark,unit='adu') for dark in darkfiles]"
   ]
  },
  {
   "cell_type": "code",
   "execution_count": 7,
   "id": "10aa1986-e55b-47b1-8c46-80c0e2b53991",
   "metadata": {},
   "outputs": [],
   "source": [
    "combiner=ccdproc.Combiner(darks)"
   ]
  },
  {
   "cell_type": "code",
   "execution_count": 8,
   "id": "1bdb6fe3-dfda-46dc-ad33-80126df6ac80",
   "metadata": {},
   "outputs": [],
   "source": [
    "masterdark=combiner.median_combine()"
   ]
  },
  {
   "cell_type": "code",
   "execution_count": 9,
   "id": "e12465a7-70aa-49e2-b3eb-4bd9afcbe91d",
   "metadata": {},
   "outputs": [
    {
     "data": {
      "text/plain": [
       "<matplotlib.image.AxesImage at 0x719dafc4d600>"
      ]
     },
     "execution_count": 9,
     "metadata": {},
     "output_type": "execute_result"
    },
    {
     "data": {
      "image/png": "[encoded data removed]",
      "text/plain": [
       "<Figure size 432x288 with 1 Axes>"
      ]
     },
     "metadata": {
      "needs_background": "light"
     },
     "output_type": "display_data"
    }
   ],
   "source": [
    "plt.imshow(masterdark.data,norm=matplotlib.colors.Normalize(500,2500,True),\n",
    "              cmap='gray')"
   ]
  },
  {
   "cell_type": "code",
   "execution_count": 10,
   "id": "3de568ce-3bfd-4a6c-9781-12e583c900cf",
   "metadata": {},
   "outputs": [
    {
     "name": "stderr",
     "output_type": "stream",
     "text": [
      "WARNING: FITSFixedWarning: 'datfix' made the change 'Set MJD-OBS to 60054.745802 from DATE-OBS'. [astropy.wcs.wcs]\n",
      "WARNING: FITSFixedWarning: 'datfix' made the change 'Set MJD-OBS to 60054.745904 from DATE-OBS'. [astropy.wcs.wcs]\n",
      "WARNING: FITSFixedWarning: 'datfix' made the change 'Set MJD-OBS to 60054.746009 from DATE-OBS'. [astropy.wcs.wcs]\n",
      "WARNING: FITSFixedWarning: 'datfix' made the change 'Set MJD-OBS to 60054.746116 from DATE-OBS'. [astropy.wcs.wcs]\n",
      "WARNING: FITSFixedWarning: 'datfix' made the change 'Set MJD-OBS to 60054.746224 from DATE-OBS'. [astropy.wcs.wcs]\n",
      "WARNING: FITSFixedWarning: 'datfix' made the change 'Set MJD-OBS to 60054.746325 from DATE-OBS'. [astropy.wcs.wcs]\n",
      "WARNING: FITSFixedWarning: 'datfix' made the change 'Set MJD-OBS to 60054.746425 from DATE-OBS'. [astropy.wcs.wcs]\n",
      "WARNING: FITSFixedWarning: 'datfix' made the change 'Set MJD-OBS to 60054.746530 from DATE-OBS'. [astropy.wcs.wcs]\n",
      "WARNING: FITSFixedWarning: 'datfix' made the change 'Set MJD-OBS to 60054.746633 from DATE-OBS'. [astropy.wcs.wcs]\n",
      "WARNING: FITSFixedWarning: 'datfix' made the change 'Set MJD-OBS to 60054.746740 from DATE-OBS'. [astropy.wcs.wcs]\n",
      "WARNING: FITSFixedWarning: 'datfix' made the change 'Set MJD-OBS to 60054.746842 from DATE-OBS'. [astropy.wcs.wcs]\n",
      "WARNING: FITSFixedWarning: 'datfix' made the change 'Set MJD-OBS to 60054.746943 from DATE-OBS'. [astropy.wcs.wcs]\n",
      "WARNING: FITSFixedWarning: 'datfix' made the change 'Set MJD-OBS to 60054.747044 from DATE-OBS'. [astropy.wcs.wcs]\n",
      "WARNING: FITSFixedWarning: 'datfix' made the change 'Set MJD-OBS to 60054.747152 from DATE-OBS'. [astropy.wcs.wcs]\n",
      "WARNING: FITSFixedWarning: 'datfix' made the change 'Set MJD-OBS to 60054.747257 from DATE-OBS'. [astropy.wcs.wcs]\n"
     ]
    }
   ],
   "source": [
    "flats =[CCDData.read(flat,unit='adu') for flat in flatfiles]"
   ]
  },
  {
   "cell_type": "code",
   "execution_count": 11,
   "id": "f3a253ee-0788-455a-94bd-fa1da1bd74a7",
   "metadata": {},
   "outputs": [],
   "source": [
    "for flat in flats:\n",
    "    flat = ccdproc.subtract_bias(flat,masterdark)"
   ]
  },
  {
   "cell_type": "code",
   "execution_count": 12,
   "id": "74da5f4d-10f4-4e2d-8fea-623305abcb97",
   "metadata": {},
   "outputs": [],
   "source": [
    "scaling_func = lambda arr: 1/np.mean(arr)\n",
    "combiner.scaling=scaling_func\n",
    "combiner=ccdproc.Combiner(flats)"
   ]
  },
  {
   "cell_type": "code",
   "execution_count": 13,
   "id": "ab0bab96-6396-41d8-90ad-41e7547b5701",
   "metadata": {},
   "outputs": [],
   "source": [
    "imageflat=combiner.median_combine()\n",
    "masterflat=CCDData(imageflat.data, unit='adu')"
   ]
  },
  {
   "cell_type": "code",
   "execution_count": 14,
   "id": "e2355664-8d3e-41b2-a3f9-082574a6d43a",
   "metadata": {},
   "outputs": [
    {
     "data": {
      "text/plain": [
       "21649.0"
      ]
     },
     "execution_count": 14,
     "metadata": {},
     "output_type": "execute_result"
    }
   ],
   "source": [
    "masterflat.data[1000][1000]"
   ]
  },
  {
   "cell_type": "code",
   "execution_count": 15,
   "id": "a9d22db7-55cb-4f09-a664-56224bfb50ba",
   "metadata": {},
   "outputs": [
    {
     "data": {
      "text/plain": [
       "<matplotlib.image.AxesImage at 0x719da21aa2c0>"
      ]
     },
     "execution_count": 15,
     "metadata": {},
     "output_type": "execute_result"
    },
    {
     "data": {
      "image/png": "[encoded data removed]",
      "text/plain": [
       "<Figure size 432x288 with 1 Axes>"
      ]
     },
     "metadata": {
      "needs_background": "light"
     },
     "output_type": "display_data"
    }
   ],
   "source": [
    "plt.imshow(masterflat.data,norm=matplotlib.colors.Normalize(0,60000,True),\n",
    "              cmap='gray')"
   ]
  },
  {
   "cell_type": "code",
   "execution_count": 16,
   "id": "e0adc915-ec65-4fcd-8c57-646b121409ee",
   "metadata": {},
   "outputs": [],
   "source": [
    "hdulist=masterflat.to_hdu()\n",
    "hdu0=hdulist[0]\n",
    "hdu0.scale('uint16')"
   ]
  },
  {
   "cell_type": "code",
   "execution_count": 17,
   "id": "45bdf769-66c3-4f91-acf6-56c58cd91440",
   "metadata": {},
   "outputs": [],
   "source": [
    "hdu1=CCDData(hdu0.data, unit=\"adu\")"
   ]
  },
  {
   "cell_type": "code",
   "execution_count": 18,
   "id": "786ab4ed-d516-45e4-9e42-89553149f3f6",
   "metadata": {},
   "outputs": [
    {
     "data": {
      "text/plain": [
       "array([[ 1358,  1345,  1377, ..., 20265, 20263, 20685],\n",
       "       [ 1444,  1425,  1454, ..., 20461, 20580, 20382],\n",
       "       [ 1438,  1428,  1444, ..., 20617, 20201, 20050],\n",
       "       ...,\n",
       "       [ 1452,  1440,  1453, ..., 19974, 20166, 20322],\n",
       "       [ 1449,  1436,  1462, ..., 20214, 20044, 20078],\n",
       "       [ 1447,  1438,  1456, ..., 20100, 19864, 19917]], dtype=uint16)"
      ]
     },
     "execution_count": 18,
     "metadata": {},
     "output_type": "execute_result"
    }
   ],
   "source": [
    "hdu0.data"
   ]
  },
  {
   "cell_type": "code",
   "execution_count": 19,
   "id": "df4a86a0-e636-4b98-852b-7e2def8e89aa",
   "metadata": {},
   "outputs": [],
   "source": [
    "hdu1.write(masterflatfile,overwrite=True)"
   ]
  },
  {
   "cell_type": "code",
   "execution_count": 20,
   "id": "69bbc057-290c-41b8-8091-2fa34985641a",
   "metadata": {},
   "outputs": [],
   "source": [
    "lsflat=[flat.data[1000,1000] for flat in flats]"
   ]
  },
  {
   "cell_type": "code",
   "execution_count": 21,
   "id": "96405f9e-b0b0-4a73-bdff-bbc4be863ad3",
   "metadata": {},
   "outputs": [
    {
     "data": {
      "text/plain": [
       "[<matplotlib.lines.Line2D at 0x719da2219f60>]"
      ]
     },
     "execution_count": 21,
     "metadata": {},
     "output_type": "execute_result"
    },
    {
     "data": {
      "image/png": "[encoded data removed]",
      "text/plain": [
       "<Figure size 432x288 with 1 Axes>"
      ]
     },
     "metadata": {
      "needs_background": "light"
     },
     "output_type": "display_data"
    }
   ],
   "source": [
    "plt.plot(lsflat)"
   ]
  },
  {
   "cell_type": "code",
   "execution_count": 22,
   "id": "06ffdcba-5c25-489e-9c38-8846126152bf",
   "metadata": {},
   "outputs": [],
   "source": [
    "#flats_V =[CCDData.read(flat,unit='adu') for flat in flatfiles_V]"
   ]
  },
  {
   "cell_type": "code",
   "execution_count": 23,
   "id": "cc18e720-33ff-47d0-9e64-f1136f5fdbcc",
   "metadata": {},
   "outputs": [],
   "source": [
    "#for flat in flats_V:\n",
    " #   flat = ccdproc.subtract_bias(flat,masterdark)"
   ]
  },
  {
   "cell_type": "code",
   "execution_count": 24,
   "id": "468336ee-cde2-4675-8bc3-efb2fc1f69cf",
   "metadata": {},
   "outputs": [],
   "source": [
    "#scaling_func = lambda arr: 1/np.mean(arr)\n",
    "#combiner.scaling=scaling_func\n",
    "#combiner=ccdproc.Combiner(flats_V)"
   ]
  },
  {
   "cell_type": "code",
   "execution_count": 25,
   "id": "7a24878f-c558-4dfa-a13b-6de3f03fe628",
   "metadata": {},
   "outputs": [],
   "source": [
    "#masterflat_V=combiner.median_combine()"
   ]
  },
  {
   "cell_type": "code",
   "execution_count": 26,
   "id": "b44af8fa-9f68-4475-9dfe-6791e4a7af9f",
   "metadata": {},
   "outputs": [],
   "source": [
    "#plt.imshow(masterflat_V.data,norm=matplotlib.colors.Normalize(5000,25000,True),\n",
    "              #cmap='gray')"
   ]
  },
  {
   "cell_type": "code",
   "execution_count": 27,
   "id": "f6a8c7ca-0aa1-49a5-8814-7b6ea2244a4e",
   "metadata": {},
   "outputs": [],
   "source": [
    "#masterflat_V.write(masterflatfile_V,overwrite=True)"
   ]
  },
  {
   "cell_type": "code",
   "execution_count": 28,
   "id": "fae6ecc9-8ac1-404c-99c7-28ad2ae3d8a6",
   "metadata": {},
   "outputs": [],
   "source": [
    "#lsflat_V=[flat.data[1000,1000] for flat in flats_V]"
   ]
  },
  {
   "cell_type": "code",
   "execution_count": 29,
   "id": "6e55525a-03b7-4609-a408-65672b7b63f6",
   "metadata": {},
   "outputs": [],
   "source": [
    "#plt.plot(lsflat_V)"
   ]
  }
 ],
 "metadata": {
  "kernelspec": {
   "display_name": "Python 3 (ipykernel)",
   "language": "python",
   "name": "python3"
  },
  "language_info": {
   "codemirror_mode": {
    "name": "ipython",
    "version": 3
   },
   "file_extension": ".py",
   "mimetype": "text/x-python",
   "name": "python",
   "nbconvert_exporter": "python",
   "pygments_lexer": "ipython3",
   "version": "3.9.13"
  }
 },
 "nbformat": 4,
 "nbformat_minor": 5
}
