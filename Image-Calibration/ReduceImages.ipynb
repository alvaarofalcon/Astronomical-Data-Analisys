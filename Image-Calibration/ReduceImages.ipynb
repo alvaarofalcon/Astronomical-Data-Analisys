{
 "cells": [
  {
   "cell_type": "code",
   "execution_count": null,
   "id": "5de0eece-96f6-4aa3-9add-3d580ec92c1e",
   "metadata": {},
   "outputs": [],
   "source": [
    "#Developed by Prof. Valerio Bozza, University of Salerno, Italy\n",
    "import os, glob\n",
    "import numpy as np\n",
    "import ccdproc\n",
    "import matplotlib\n",
    "import matplotlib.pyplot as plt\n",
    "from astropy.nddata import CCDData "
   ]
  },
  {
   "cell_type": "code",
   "execution_count": 2,
   "id": "49eaf49f-312a-46d8-8256-284a71b35d82",
   "metadata": {},
   "outputs": [],
   "source": [
    "rawimagespath='/home/astro/Documenti/2023/ELLIP_GALAXY/m105/*.FIT'\n",
    "darkpath='/home/astro/Documenti/2023/ELLIP_GALAXY/bias/*.FIT'\n",
    "masterflatfile='/home/astro/Documenti/2023/ELLIP_GALAXY/masterflatR.FIT'\n",
    "reducedpath='/home/astro/Documenti/2023/ELLIP_GALAXY/ReducedImgs/'"
   ]
  },
  {
   "cell_type": "code",
   "execution_count": 3,
   "id": "70673145-7880-4895-91ca-ca45cc952063",
   "metadata": {},
   "outputs": [
    {
     "name": "stdout",
     "output_type": "stream",
     "text": [
      "['/home/astro/Documenti/2023/ELLIP_GALAXY/bias/bias.00000001.BIAS.FIT', '/home/astro/Documenti/2023/ELLIP_GALAXY/bias/bias.00000002.BIAS.FIT', '/home/astro/Documenti/2023/ELLIP_GALAXY/bias/bias.00000003.BIAS.FIT', '/home/astro/Documenti/2023/ELLIP_GALAXY/bias/bias.00000004.BIAS.FIT', '/home/astro/Documenti/2023/ELLIP_GALAXY/bias/bias.00000005.BIAS.FIT', '/home/astro/Documenti/2023/ELLIP_GALAXY/bias/bias.00000006.BIAS.FIT', '/home/astro/Documenti/2023/ELLIP_GALAXY/bias/bias.00000007.BIAS.FIT', '/home/astro/Documenti/2023/ELLIP_GALAXY/bias/bias.00000008.BIAS.FIT', '/home/astro/Documenti/2023/ELLIP_GALAXY/bias/bias.00000009.BIAS.FIT', '/home/astro/Documenti/2023/ELLIP_GALAXY/bias/bias.00000010.BIAS.FIT', '/home/astro/Documenti/2023/ELLIP_GALAXY/bias/bias.00000011.BIAS.FIT', '/home/astro/Documenti/2023/ELLIP_GALAXY/bias/bias.00000012.BIAS.FIT', '/home/astro/Documenti/2023/ELLIP_GALAXY/bias/bias.00000013.BIAS.FIT', '/home/astro/Documenti/2023/ELLIP_GALAXY/bias/bias.00000014.BIAS.FIT', '/home/astro/Documenti/2023/ELLIP_GALAXY/bias/bias.00000015.BIAS.FIT']\n"
     ]
    }
   ],
   "source": [
    "darkfiles=glob.glob(darkpath)\n",
    "darkfiles.sort()\n",
    "print(darkfiles)"
   ]
  },
  {
   "cell_type": "code",
   "execution_count": 4,
   "id": "abaa107a-c046-4914-9dab-de448da001ff",
   "metadata": {},
   "outputs": [
    {
     "name": "stdout",
     "output_type": "stream",
     "text": [
      "['/home/astro/Documenti/2023/ELLIP_GALAXY/m105/m105r.00000001.FIT', '/home/astro/Documenti/2023/ELLIP_GALAXY/m105/m105r.00000002.FIT', '/home/astro/Documenti/2023/ELLIP_GALAXY/m105/m105r.00000003.FIT', '/home/astro/Documenti/2023/ELLIP_GALAXY/m105/m105r.00000004.FIT', '/home/astro/Documenti/2023/ELLIP_GALAXY/m105/m105r.00000005.FIT', '/home/astro/Documenti/2023/ELLIP_GALAXY/m105/m105r.00000006.FIT', '/home/astro/Documenti/2023/ELLIP_GALAXY/m105/m105r.00000007.FIT', '/home/astro/Documenti/2023/ELLIP_GALAXY/m105/m105r.00000008.FIT', '/home/astro/Documenti/2023/ELLIP_GALAXY/m105/m105r.00000009.FIT', '/home/astro/Documenti/2023/ELLIP_GALAXY/m105/m105r.00000010.FIT', '/home/astro/Documenti/2023/ELLIP_GALAXY/m105/m105r.00000011.FIT', '/home/astro/Documenti/2023/ELLIP_GALAXY/m105/m105r.00000012.FIT', '/home/astro/Documenti/2023/ELLIP_GALAXY/m105/m105r.00000013.FIT', '/home/astro/Documenti/2023/ELLIP_GALAXY/m105/m105r.00000014.FIT', '/home/astro/Documenti/2023/ELLIP_GALAXY/m105/m105r.00000015.FIT', '/home/astro/Documenti/2023/ELLIP_GALAXY/m105/m105r.00000016.FIT', '/home/astro/Documenti/2023/ELLIP_GALAXY/m105/m105r.00000017.FIT', '/home/astro/Documenti/2023/ELLIP_GALAXY/m105/m105r.00000018.FIT', '/home/astro/Documenti/2023/ELLIP_GALAXY/m105/m105r.00000019.FIT', '/home/astro/Documenti/2023/ELLIP_GALAXY/m105/m105r.00000020.FIT', '/home/astro/Documenti/2023/ELLIP_GALAXY/m105/m105r.00000021.FIT', '/home/astro/Documenti/2023/ELLIP_GALAXY/m105/m105r.00000022.FIT', '/home/astro/Documenti/2023/ELLIP_GALAXY/m105/m105r.00000023.FIT', '/home/astro/Documenti/2023/ELLIP_GALAXY/m105/m105r.00000024.FIT', '/home/astro/Documenti/2023/ELLIP_GALAXY/m105/m105r.00000025.FIT', '/home/astro/Documenti/2023/ELLIP_GALAXY/m105/m105r.00000026.FIT', '/home/astro/Documenti/2023/ELLIP_GALAXY/m105/m105r.00000027.FIT', '/home/astro/Documenti/2023/ELLIP_GALAXY/m105/m105r.00000028.FIT', '/home/astro/Documenti/2023/ELLIP_GALAXY/m105/m105r.00000029.FIT', '/home/astro/Documenti/2023/ELLIP_GALAXY/m105/m105r.00000030.FIT']\n"
     ]
    }
   ],
   "source": [
    "rawfiles=glob.glob(rawimagespath)\n",
    "rawfiles.sort()\n",
    "print(rawfiles)"
   ]
  },
  {
   "cell_type": "code",
   "execution_count": 5,
   "id": "ea2812cb-26c7-4105-8040-10d9c2ba6f19",
   "metadata": {},
   "outputs": [
    {
     "name": "stderr",
     "output_type": "stream",
     "text": [
      "WARNING: FITSFixedWarning: 'datfix' made the change 'Set MJD-OBS to 60054.748032 from DATE-OBS'. [astropy.wcs.wcs]\n",
      "WARNING: FITSFixedWarning: 'datfix' made the change 'Set MJD-OBS to 60054.748101 from DATE-OBS'. [astropy.wcs.wcs]\n",
      "WARNING: FITSFixedWarning: 'datfix' made the change 'Set MJD-OBS to 60054.748170 from DATE-OBS'. [astropy.wcs.wcs]\n",
      "WARNING: FITSFixedWarning: 'datfix' made the change 'Set MJD-OBS to 60054.748239 from DATE-OBS'. [astropy.wcs.wcs]\n",
      "WARNING: FITSFixedWarning: 'datfix' made the change 'Set MJD-OBS to 60054.748308 from DATE-OBS'. [astropy.wcs.wcs]\n",
      "WARNING: FITSFixedWarning: 'datfix' made the change 'Set MJD-OBS to 60054.748377 from DATE-OBS'. [astropy.wcs.wcs]\n",
      "WARNING: FITSFixedWarning: 'datfix' made the change 'Set MJD-OBS to 60054.748445 from DATE-OBS'. [astropy.wcs.wcs]\n",
      "WARNING: FITSFixedWarning: 'datfix' made the change 'Set MJD-OBS to 60054.748514 from DATE-OBS'. [astropy.wcs.wcs]\n",
      "WARNING: FITSFixedWarning: 'datfix' made the change 'Set MJD-OBS to 60054.748583 from DATE-OBS'. [astropy.wcs.wcs]\n",
      "WARNING: FITSFixedWarning: 'datfix' made the change 'Set MJD-OBS to 60054.748652 from DATE-OBS'. [astropy.wcs.wcs]\n",
      "WARNING: FITSFixedWarning: 'datfix' made the change 'Set MJD-OBS to 60054.748721 from DATE-OBS'. [astropy.wcs.wcs]\n",
      "WARNING: FITSFixedWarning: 'datfix' made the change 'Set MJD-OBS to 60054.748791 from DATE-OBS'. [astropy.wcs.wcs]\n",
      "WARNING: FITSFixedWarning: 'datfix' made the change 'Set MJD-OBS to 60054.748861 from DATE-OBS'. [astropy.wcs.wcs]\n",
      "WARNING: FITSFixedWarning: 'datfix' made the change 'Set MJD-OBS to 60054.748931 from DATE-OBS'. [astropy.wcs.wcs]\n",
      "WARNING: FITSFixedWarning: 'datfix' made the change 'Set MJD-OBS to 60054.749001 from DATE-OBS'. [astropy.wcs.wcs]\n"
     ]
    }
   ],
   "source": [
    "darks=[CCDData.read(dark,unit='adu') for dark in darkfiles]"
   ]
  },
  {
   "cell_type": "code",
   "execution_count": 6,
   "id": "10aa1986-e55b-47b1-8c46-80c0e2b53991",
   "metadata": {},
   "outputs": [],
   "source": [
    "combiner=ccdproc.Combiner(darks)"
   ]
  },
  {
   "cell_type": "code",
   "execution_count": 7,
   "id": "1bdb6fe3-dfda-46dc-ad33-80126df6ac80",
   "metadata": {},
   "outputs": [],
   "source": [
    "masterdark=combiner.median_combine()"
   ]
  },
  {
   "cell_type": "code",
   "execution_count": 8,
   "id": "37632220-f680-4b79-948a-e98876630a99",
   "metadata": {},
   "outputs": [],
   "source": [
    "imagedark=combiner.median_combine().to_hdu()[0]\n",
    "imagedark.scale('uint16')\n",
    "masterdark=CCDData(imagedark.data, unit='adu')"
   ]
  },
  {
   "cell_type": "code",
   "execution_count": 9,
   "id": "e12465a7-70aa-49e2-b3eb-4bd9afcbe91d",
   "metadata": {},
   "outputs": [
    {
     "data": {
      "text/plain": [
       "<matplotlib.image.AxesImage at 0x7a01b5d91180>"
      ]
     },
     "execution_count": 9,
     "metadata": {},
     "output_type": "execute_result"
    },
    {
     "data": {
      "image/png": "[encoded data removed]",
      "text/plain": [
       "<Figure size 432x288 with 1 Axes>"
      ]
     },
     "metadata": {
      "needs_background": "light"
     },
     "output_type": "display_data"
    }
   ],
   "source": [
    "plt.imshow(masterdark.data,norm=matplotlib.colors.Normalize(500,2500,True),\n",
    "              cmap='gray')"
   ]
  },
  {
   "cell_type": "code",
   "execution_count": 10,
   "id": "3de568ce-3bfd-4a6c-9781-12e583c900cf",
   "metadata": {
    "tags": []
   },
   "outputs": [
    {
     "name": "stdout",
     "output_type": "stream",
     "text": [
      "INFO: using the unit adu passed to the FITS reader instead of the unit adu in the FITS file. [astropy.nddata.ccddata]\n"
     ]
    }
   ],
   "source": [
    "masterflat=CCDData.read(masterflatfile,unit='adu')"
   ]
  },
  {
   "cell_type": "code",
   "execution_count": 11,
   "id": "bd02e349-0554-4fd1-9845-a9d99d3a7a2c",
   "metadata": {},
   "outputs": [],
   "source": [
    "if not os.path.exists(reducedpath):\n",
    "    os.mkdir(reducedpath)"
   ]
  },
  {
   "cell_type": "code",
   "execution_count": 12,
   "id": "be9d8981-74e7-478b-bf96-9677ddfa41c5",
   "metadata": {
    "scrolled": true
   },
   "outputs": [
    {
     "name": "stdout",
     "output_type": "stream",
     "text": [
      "0\n"
     ]
    },
    {
     "name": "stderr",
     "output_type": "stream",
     "text": [
      "WARNING: FITSFixedWarning: 'datfix' made the change 'Set MJD-OBS to 60054.791019 from DATE-OBS'. [astropy.wcs.wcs]\n"
     ]
    },
    {
     "name": "stdout",
     "output_type": "stream",
     "text": [
      "1\n"
     ]
    },
    {
     "name": "stderr",
     "output_type": "stream",
     "text": [
      "WARNING: FITSFixedWarning: 'datfix' made the change 'Set MJD-OBS to 60054.791773 from DATE-OBS'. [astropy.wcs.wcs]\n"
     ]
    },
    {
     "name": "stdout",
     "output_type": "stream",
     "text": [
      "2\n"
     ]
    },
    {
     "name": "stderr",
     "output_type": "stream",
     "text": [
      "WARNING: FITSFixedWarning: 'datfix' made the change 'Set MJD-OBS to 60054.792527 from DATE-OBS'. [astropy.wcs.wcs]\n"
     ]
    },
    {
     "name": "stdout",
     "output_type": "stream",
     "text": [
      "3\n"
     ]
    },
    {
     "name": "stderr",
     "output_type": "stream",
     "text": [
      "WARNING: FITSFixedWarning: 'datfix' made the change 'Set MJD-OBS to 60054.793279 from DATE-OBS'. [astropy.wcs.wcs]\n"
     ]
    },
    {
     "name": "stdout",
     "output_type": "stream",
     "text": [
      "4\n"
     ]
    },
    {
     "name": "stderr",
     "output_type": "stream",
     "text": [
      "WARNING: FITSFixedWarning: 'datfix' made the change 'Set MJD-OBS to 60054.794033 from DATE-OBS'. [astropy.wcs.wcs]\n"
     ]
    },
    {
     "name": "stdout",
     "output_type": "stream",
     "text": [
      "5\n"
     ]
    },
    {
     "name": "stderr",
     "output_type": "stream",
     "text": [
      "WARNING: FITSFixedWarning: 'datfix' made the change 'Set MJD-OBS to 60054.794785 from DATE-OBS'. [astropy.wcs.wcs]\n"
     ]
    },
    {
     "name": "stdout",
     "output_type": "stream",
     "text": [
      "6\n"
     ]
    },
    {
     "name": "stderr",
     "output_type": "stream",
     "text": [
      "WARNING: FITSFixedWarning: 'datfix' made the change 'Set MJD-OBS to 60054.795538 from DATE-OBS'. [astropy.wcs.wcs]\n"
     ]
    },
    {
     "name": "stdout",
     "output_type": "stream",
     "text": [
      "7\n"
     ]
    },
    {
     "name": "stderr",
     "output_type": "stream",
     "text": [
      "WARNING: FITSFixedWarning: 'datfix' made the change 'Set MJD-OBS to 60054.796292 from DATE-OBS'. [astropy.wcs.wcs]\n"
     ]
    },
    {
     "name": "stdout",
     "output_type": "stream",
     "text": [
      "8\n"
     ]
    },
    {
     "name": "stderr",
     "output_type": "stream",
     "text": [
      "WARNING: FITSFixedWarning: 'datfix' made the change 'Set MJD-OBS to 60054.797043 from DATE-OBS'. [astropy.wcs.wcs]\n"
     ]
    },
    {
     "name": "stdout",
     "output_type": "stream",
     "text": [
      "9\n"
     ]
    },
    {
     "name": "stderr",
     "output_type": "stream",
     "text": [
      "WARNING: FITSFixedWarning: 'datfix' made the change 'Set MJD-OBS to 60054.797796 from DATE-OBS'. [astropy.wcs.wcs]\n"
     ]
    },
    {
     "name": "stdout",
     "output_type": "stream",
     "text": [
      "10\n"
     ]
    },
    {
     "name": "stderr",
     "output_type": "stream",
     "text": [
      "WARNING: FITSFixedWarning: 'datfix' made the change 'Set MJD-OBS to 60054.798548 from DATE-OBS'. [astropy.wcs.wcs]\n"
     ]
    },
    {
     "name": "stdout",
     "output_type": "stream",
     "text": [
      "11\n"
     ]
    },
    {
     "name": "stderr",
     "output_type": "stream",
     "text": [
      "WARNING: FITSFixedWarning: 'datfix' made the change 'Set MJD-OBS to 60054.799300 from DATE-OBS'. [astropy.wcs.wcs]\n"
     ]
    },
    {
     "name": "stdout",
     "output_type": "stream",
     "text": [
      "12\n"
     ]
    },
    {
     "name": "stderr",
     "output_type": "stream",
     "text": [
      "WARNING: FITSFixedWarning: 'datfix' made the change 'Set MJD-OBS to 60054.800052 from DATE-OBS'. [astropy.wcs.wcs]\n"
     ]
    },
    {
     "name": "stdout",
     "output_type": "stream",
     "text": [
      "13\n"
     ]
    },
    {
     "name": "stderr",
     "output_type": "stream",
     "text": [
      "WARNING: FITSFixedWarning: 'datfix' made the change 'Set MJD-OBS to 60054.800804 from DATE-OBS'. [astropy.wcs.wcs]\n"
     ]
    },
    {
     "name": "stdout",
     "output_type": "stream",
     "text": [
      "14\n"
     ]
    },
    {
     "name": "stderr",
     "output_type": "stream",
     "text": [
      "WARNING: FITSFixedWarning: 'datfix' made the change 'Set MJD-OBS to 60054.801556 from DATE-OBS'. [astropy.wcs.wcs]\n"
     ]
    },
    {
     "name": "stdout",
     "output_type": "stream",
     "text": [
      "15\n"
     ]
    },
    {
     "name": "stderr",
     "output_type": "stream",
     "text": [
      "WARNING: FITSFixedWarning: 'datfix' made the change 'Set MJD-OBS to 60054.802308 from DATE-OBS'. [astropy.wcs.wcs]\n"
     ]
    },
    {
     "name": "stdout",
     "output_type": "stream",
     "text": [
      "16\n"
     ]
    },
    {
     "name": "stderr",
     "output_type": "stream",
     "text": [
      "WARNING: FITSFixedWarning: 'datfix' made the change 'Set MJD-OBS to 60054.803061 from DATE-OBS'. [astropy.wcs.wcs]\n"
     ]
    },
    {
     "name": "stdout",
     "output_type": "stream",
     "text": [
      "17\n"
     ]
    },
    {
     "name": "stderr",
     "output_type": "stream",
     "text": [
      "WARNING: FITSFixedWarning: 'datfix' made the change 'Set MJD-OBS to 60054.803813 from DATE-OBS'. [astropy.wcs.wcs]\n"
     ]
    },
    {
     "name": "stdout",
     "output_type": "stream",
     "text": [
      "18\n"
     ]
    },
    {
     "name": "stderr",
     "output_type": "stream",
     "text": [
      "WARNING: FITSFixedWarning: 'datfix' made the change 'Set MJD-OBS to 60054.804566 from DATE-OBS'. [astropy.wcs.wcs]\n"
     ]
    },
    {
     "name": "stdout",
     "output_type": "stream",
     "text": [
      "19\n"
     ]
    },
    {
     "name": "stderr",
     "output_type": "stream",
     "text": [
      "WARNING: FITSFixedWarning: 'datfix' made the change 'Set MJD-OBS to 60054.805318 from DATE-OBS'. [astropy.wcs.wcs]\n"
     ]
    },
    {
     "name": "stdout",
     "output_type": "stream",
     "text": [
      "20\n"
     ]
    },
    {
     "name": "stderr",
     "output_type": "stream",
     "text": [
      "WARNING: FITSFixedWarning: 'datfix' made the change 'Set MJD-OBS to 60054.806070 from DATE-OBS'. [astropy.wcs.wcs]\n"
     ]
    },
    {
     "name": "stdout",
     "output_type": "stream",
     "text": [
      "21\n"
     ]
    },
    {
     "name": "stderr",
     "output_type": "stream",
     "text": [
      "WARNING: FITSFixedWarning: 'datfix' made the change 'Set MJD-OBS to 60054.806822 from DATE-OBS'. [astropy.wcs.wcs]\n"
     ]
    },
    {
     "name": "stdout",
     "output_type": "stream",
     "text": [
      "22\n"
     ]
    },
    {
     "name": "stderr",
     "output_type": "stream",
     "text": [
      "WARNING: FITSFixedWarning: 'datfix' made the change 'Set MJD-OBS to 60054.807574 from DATE-OBS'. [astropy.wcs.wcs]\n"
     ]
    },
    {
     "name": "stdout",
     "output_type": "stream",
     "text": [
      "23\n"
     ]
    },
    {
     "name": "stderr",
     "output_type": "stream",
     "text": [
      "WARNING: FITSFixedWarning: 'datfix' made the change 'Set MJD-OBS to 60054.808327 from DATE-OBS'. [astropy.wcs.wcs]\n"
     ]
    },
    {
     "name": "stdout",
     "output_type": "stream",
     "text": [
      "24\n"
     ]
    },
    {
     "name": "stderr",
     "output_type": "stream",
     "text": [
      "WARNING: FITSFixedWarning: 'datfix' made the change 'Set MJD-OBS to 60054.809080 from DATE-OBS'. [astropy.wcs.wcs]\n"
     ]
    },
    {
     "name": "stdout",
     "output_type": "stream",
     "text": [
      "25\n"
     ]
    },
    {
     "name": "stderr",
     "output_type": "stream",
     "text": [
      "WARNING: FITSFixedWarning: 'datfix' made the change 'Set MJD-OBS to 60054.809831 from DATE-OBS'. [astropy.wcs.wcs]\n"
     ]
    },
    {
     "name": "stdout",
     "output_type": "stream",
     "text": [
      "26\n"
     ]
    },
    {
     "name": "stderr",
     "output_type": "stream",
     "text": [
      "WARNING: FITSFixedWarning: 'datfix' made the change 'Set MJD-OBS to 60054.810584 from DATE-OBS'. [astropy.wcs.wcs]\n"
     ]
    },
    {
     "name": "stdout",
     "output_type": "stream",
     "text": [
      "27\n"
     ]
    },
    {
     "name": "stderr",
     "output_type": "stream",
     "text": [
      "WARNING: FITSFixedWarning: 'datfix' made the change 'Set MJD-OBS to 60054.811336 from DATE-OBS'. [astropy.wcs.wcs]\n"
     ]
    },
    {
     "name": "stdout",
     "output_type": "stream",
     "text": [
      "28\n"
     ]
    },
    {
     "name": "stderr",
     "output_type": "stream",
     "text": [
      "WARNING: FITSFixedWarning: 'datfix' made the change 'Set MJD-OBS to 60054.812089 from DATE-OBS'. [astropy.wcs.wcs]\n"
     ]
    },
    {
     "name": "stdout",
     "output_type": "stream",
     "text": [
      "29\n"
     ]
    },
    {
     "name": "stderr",
     "output_type": "stream",
     "text": [
      "WARNING: FITSFixedWarning: 'datfix' made the change 'Set MJD-OBS to 60054.812840 from DATE-OBS'. [astropy.wcs.wcs]\n"
     ]
    }
   ],
   "source": [
    "it = 0\n",
    "for rawfile in rawfiles:\n",
    "    print(it)\n",
    "    it += 1\n",
    "    raw=CCDData.read(rawfile,unit='adu')\n",
    "    reduced=ccdproc.ccd_process(raw,master_bias=masterdark, master_flat=masterflat)\n",
    "    for i in range(1,len(reduced.data)-1):\n",
    "        for j in range(1,len(reduced.data[0])-1):\n",
    "            if reduced.data[i,j] <0:\n",
    "                reduced.data[i,j]=0#(np.sum(reduced.data[i-1:i+1,j-1:j+1])-reduced.data[i,j])/8\n",
    "    reduced.data=reduced.data.astype('uint16')\n",
    "    reduced.write(reducedpath + os.path.basename(rawfile),overwrite=True)"
   ]
  },
  {
   "cell_type": "code",
   "execution_count": 13,
   "id": "a2cf7b44-2aae-445c-bb74-a1a3f68ec799",
   "metadata": {},
   "outputs": [
    {
     "data": {
      "text/plain": [
       "<matplotlib.image.AxesImage at 0x7a01b5ca3520>"
      ]
     },
     "execution_count": 13,
     "metadata": {},
     "output_type": "execute_result"
    },
    {
     "data": {
      "image/png": "[encoded data removed]",
      "text/plain": [
       "<Figure size 432x288 with 1 Axes>"
      ]
     },
     "metadata": {
      "needs_background": "light"
     },
     "output_type": "display_data"
    }
   ],
   "source": [
    "plt.imshow(reduced.data,norm=matplotlib.colors.Normalize(0,500,True),\n",
    "              cmap='gray')"
   ]
  },
  {
   "cell_type": "code",
   "execution_count": 14,
   "id": "5037a863-0500-4228-89e5-d6b990c68ccf",
   "metadata": {},
   "outputs": [
    {
     "data": {
      "text/plain": [
       "<matplotlib.image.AxesImage at 0x7a01b5d0b2b0>"
      ]
     },
     "execution_count": 14,
     "metadata": {},
     "output_type": "execute_result"
    },
    {
     "data": {
      "image/png": "[encoded data removed]",
      "text/plain": [
       "<Figure size 432x288 with 1 Axes>"
      ]
     },
     "metadata": {
      "needs_background": "light"
     },
     "output_type": "display_data"
    }
   ],
   "source": [
    "plt.imshow(reduced.data,norm=matplotlib.colors.Normalize(0,500,True),\n",
    "              cmap='gray')"
   ]
  },
  {
   "cell_type": "code",
   "execution_count": null,
   "id": "6d81cc2b-0050-457a-a97b-51a6320eb599",
   "metadata": {},
   "outputs": [],
   "source": []
  }
 ],
 "metadata": {
  "kernelspec": {
   "display_name": "Python 3 (ipykernel)",
   "language": "python",
   "name": "python3"
  },
  "language_info": {
   "codemirror_mode": {
    "name": "ipython",
    "version": 3
   },
   "file_extension": ".py",
   "mimetype": "text/x-python",
   "name": "python",
   "nbconvert_exporter": "python",
   "pygments_lexer": "ipython3",
   "version": "3.9.13"
  }
 },
 "nbformat": 4,
 "nbformat_minor": 5
}
